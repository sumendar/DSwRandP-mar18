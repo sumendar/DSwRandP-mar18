{
 "cells": [
  {
   "cell_type": "code",
   "execution_count": null,
   "metadata": {
    "collapsed": true
   },
   "outputs": [],
   "source": [
    "install.packages(\"data.table\")"
   ]
  },
  {
   "cell_type": "code",
   "execution_count": 1,
   "metadata": {},
   "outputs": [
    {
     "name": "stderr",
     "output_type": "stream",
     "text": [
      "Warning message:\n",
      "\"package 'magrittr' was built under R version 3.4.3\"Warning message:\n",
      "\"package 'data.table' was built under R version 3.4.4\"Warning message:\n",
      "\"package 'tibble' was built under R version 3.4.3\"Warning message:\n",
      "\"package 'dplyr' was built under R version 3.4.3\"\n",
      "Attaching package: 'dplyr'\n",
      "\n",
      "The following objects are masked from 'package:data.table':\n",
      "\n",
      "    between, first, last\n",
      "\n",
      "The following objects are masked from 'package:stats':\n",
      "\n",
      "    filter, lag\n",
      "\n",
      "The following objects are masked from 'package:base':\n",
      "\n",
      "    intersect, setdiff, setequal, union\n",
      "\n"
     ]
    }
   ],
   "source": [
    "library(magrittr)\n",
    "library(data.table)\n",
    "library(tibble)\n",
    "library(dplyr)"
   ]
  },
  {
   "cell_type": "code",
   "execution_count": 4,
   "metadata": {},
   "outputs": [
    {
     "data": {
      "text/html": [
       "'nteg'"
      ],
      "text/latex": [
       "'nteg'"
      ],
      "text/markdown": [
       "'nteg'"
      ],
      "text/plain": [
       "[1] \"nteg\""
      ]
     },
     "metadata": {},
     "output_type": "display_data"
    },
    {
     "data": {
      "text/html": [
       "'nteg'"
      ],
      "text/latex": [
       "'nteg'"
      ],
      "text/markdown": [
       "'nteg'"
      ],
      "text/plain": [
       "[1] \"nteg\""
      ]
     },
     "metadata": {},
     "output_type": "display_data"
    },
    {
     "data": {
      "text/html": [
       "<ol class=list-inline>\n",
       "\t<li>'data.table'</li>\n",
       "\t<li>'data.frame'</li>\n",
       "</ol>\n"
      ],
      "text/latex": [
       "\\begin{enumerate*}\n",
       "\\item 'data.table'\n",
       "\\item 'data.frame'\n",
       "\\end{enumerate*}\n"
      ],
      "text/markdown": [
       "1. 'data.table'\n",
       "2. 'data.frame'\n",
       "\n",
       "\n"
      ],
      "text/plain": [
       "[1] \"data.table\" \"data.frame\""
      ]
     },
     "metadata": {},
     "output_type": "display_data"
    },
    {
     "data": {
      "text/html": [
       "<table>\n",
       "<thead><tr><th scope=col>V1</th><th scope=col>V2</th><th scope=col>V3</th><th scope=col>V4</th></tr></thead>\n",
       "<tbody>\n",
       "\t<tr><td>1      </td><td>C      </td><td>-0.3795</td><td>3      </td></tr>\n",
       "\t<tr><td>2      </td><td>A      </td><td>-0.7460</td><td>4      </td></tr>\n",
       "\t<tr><td>1      </td><td>B      </td><td> 0.3408</td><td>5      </td></tr>\n",
       "</tbody>\n",
       "</table>\n"
      ],
      "text/latex": [
       "\\begin{tabular}{r|llll}\n",
       " V1 & V2 & V3 & V4\\\\\n",
       "\\hline\n",
       "\t 1       & C       & -0.3795 & 3      \\\\\n",
       "\t 2       & A       & -0.7460 & 4      \\\\\n",
       "\t 1       & B       &  0.3408 & 5      \\\\\n",
       "\\end{tabular}\n"
      ],
      "text/markdown": [
       "\n",
       "V1 | V2 | V3 | V4 | \n",
       "|---|---|---|\n",
       "| 1       | C       | -0.3795 | 3       | \n",
       "| 2       | A       | -0.7460 | 4       | \n",
       "| 1       | B       |  0.3408 | 5       | \n",
       "\n",
       "\n"
      ],
      "text/plain": [
       "  V1 V2 V3      V4\n",
       "1 1  C  -0.3795 3 \n",
       "2 2  A  -0.7460 4 \n",
       "3 1  B   0.3408 5 "
      ]
     },
     "metadata": {},
     "output_type": "display_data"
    },
    {
     "data": {
      "text/html": [
       "<table>\n",
       "<thead><tr><th scope=col>V1</th><th scope=col>V2</th><th scope=col>V3</th><th scope=col>V4</th></tr></thead>\n",
       "<tbody>\n",
       "\t<tr><td>1      </td><td>C      </td><td>-0.3795</td><td>3      </td></tr>\n",
       "\t<tr><td>2      </td><td>A      </td><td>-0.7460</td><td>4      </td></tr>\n",
       "\t<tr><td>1      </td><td>B      </td><td> 0.3408</td><td>5      </td></tr>\n",
       "</tbody>\n",
       "</table>\n"
      ],
      "text/latex": [
       "\\begin{tabular}{r|llll}\n",
       " V1 & V2 & V3 & V4\\\\\n",
       "\\hline\n",
       "\t 1       & C       & -0.3795 & 3      \\\\\n",
       "\t 2       & A       & -0.7460 & 4      \\\\\n",
       "\t 1       & B       &  0.3408 & 5      \\\\\n",
       "\\end{tabular}\n"
      ],
      "text/markdown": [
       "\n",
       "V1 | V2 | V3 | V4 | \n",
       "|---|---|---|\n",
       "| 1       | C       | -0.3795 | 3       | \n",
       "| 2       | A       | -0.7460 | 4       | \n",
       "| 1       | B       |  0.3408 | 5       | \n",
       "\n",
       "\n"
      ],
      "text/plain": [
       "  V1 V2 V3      V4\n",
       "1 1  C  -0.3795 3 \n",
       "2 2  A  -0.7460 4 \n",
       "3 1  B   0.3408 5 "
      ]
     },
     "metadata": {},
     "output_type": "display_data"
    },
    {
     "data": {
      "text/html": [
       "<table>\n",
       "<thead><tr><th></th><th scope=col>disp</th><th scope=col>hp</th><th scope=col>drat</th></tr></thead>\n",
       "<tbody>\n",
       "\t<tr><th scope=row>Mazda RX4</th><td>160.0</td><td>110  </td><td>3.90 </td></tr>\n",
       "\t<tr><th scope=row>Mazda RX4 Wag</th><td>160.0</td><td>110  </td><td>3.90 </td></tr>\n",
       "\t<tr><th scope=row>Datsun 710</th><td>108.0</td><td> 93  </td><td>3.85 </td></tr>\n",
       "\t<tr><th scope=row>Hornet 4 Drive</th><td>258.0</td><td>110  </td><td>3.08 </td></tr>\n",
       "\t<tr><th scope=row>Hornet Sportabout</th><td>360.0</td><td>175  </td><td>3.15 </td></tr>\n",
       "\t<tr><th scope=row>Valiant</th><td>225.0</td><td>105  </td><td>2.76 </td></tr>\n",
       "\t<tr><th scope=row>Duster 360</th><td>360.0</td><td>245  </td><td>3.21 </td></tr>\n",
       "\t<tr><th scope=row>Merc 240D</th><td>146.7</td><td> 62  </td><td>3.69 </td></tr>\n",
       "\t<tr><th scope=row>Merc 230</th><td>140.8</td><td> 95  </td><td>3.92 </td></tr>\n",
       "\t<tr><th scope=row>Merc 280</th><td>167.6</td><td>123  </td><td>3.92 </td></tr>\n",
       "\t<tr><th scope=row>Merc 280C</th><td>167.6</td><td>123  </td><td>3.92 </td></tr>\n",
       "\t<tr><th scope=row>Merc 450SE</th><td>275.8</td><td>180  </td><td>3.07 </td></tr>\n",
       "\t<tr><th scope=row>Merc 450SL</th><td>275.8</td><td>180  </td><td>3.07 </td></tr>\n",
       "\t<tr><th scope=row>Merc 450SLC</th><td>275.8</td><td>180  </td><td>3.07 </td></tr>\n",
       "\t<tr><th scope=row>Cadillac Fleetwood</th><td>472.0</td><td>205  </td><td>2.93 </td></tr>\n",
       "\t<tr><th scope=row>Lincoln Continental</th><td>460.0</td><td>215  </td><td>3.00 </td></tr>\n",
       "\t<tr><th scope=row>Chrysler Imperial</th><td>440.0</td><td>230  </td><td>3.23 </td></tr>\n",
       "\t<tr><th scope=row>Fiat 128</th><td> 78.7</td><td> 66  </td><td>4.08 </td></tr>\n",
       "\t<tr><th scope=row>Honda Civic</th><td> 75.7</td><td> 52  </td><td>4.93 </td></tr>\n",
       "\t<tr><th scope=row>Toyota Corolla</th><td> 71.1</td><td> 65  </td><td>4.22 </td></tr>\n",
       "\t<tr><th scope=row>Toyota Corona</th><td>120.1</td><td> 97  </td><td>3.70 </td></tr>\n",
       "\t<tr><th scope=row>Dodge Challenger</th><td>318.0</td><td>150  </td><td>2.76 </td></tr>\n",
       "\t<tr><th scope=row>AMC Javelin</th><td>304.0</td><td>150  </td><td>3.15 </td></tr>\n",
       "\t<tr><th scope=row>Camaro Z28</th><td>350.0</td><td>245  </td><td>3.73 </td></tr>\n",
       "\t<tr><th scope=row>Pontiac Firebird</th><td>400.0</td><td>175  </td><td>3.08 </td></tr>\n",
       "\t<tr><th scope=row>Fiat X1-9</th><td> 79.0</td><td> 66  </td><td>4.08 </td></tr>\n",
       "\t<tr><th scope=row>Porsche 914-2</th><td>120.3</td><td> 91  </td><td>4.43 </td></tr>\n",
       "\t<tr><th scope=row>Lotus Europa</th><td> 95.1</td><td>113  </td><td>3.77 </td></tr>\n",
       "\t<tr><th scope=row>Ford Pantera L</th><td>351.0</td><td>264  </td><td>4.22 </td></tr>\n",
       "\t<tr><th scope=row>Ferrari Dino</th><td>145.0</td><td>175  </td><td>3.62 </td></tr>\n",
       "\t<tr><th scope=row>Maserati Bora</th><td>301.0</td><td>335  </td><td>3.54 </td></tr>\n",
       "\t<tr><th scope=row>Volvo 142E</th><td>121.0</td><td>109  </td><td>4.11 </td></tr>\n",
       "</tbody>\n",
       "</table>\n"
      ],
      "text/latex": [
       "\\begin{tabular}{r|lll}\n",
       "  & disp & hp & drat\\\\\n",
       "\\hline\n",
       "\tMazda RX4 & 160.0 & 110   & 3.90 \\\\\n",
       "\tMazda RX4 Wag & 160.0 & 110   & 3.90 \\\\\n",
       "\tDatsun 710 & 108.0 &  93   & 3.85 \\\\\n",
       "\tHornet 4 Drive & 258.0 & 110   & 3.08 \\\\\n",
       "\tHornet Sportabout & 360.0 & 175   & 3.15 \\\\\n",
       "\tValiant & 225.0 & 105   & 2.76 \\\\\n",
       "\tDuster 360 & 360.0 & 245   & 3.21 \\\\\n",
       "\tMerc 240D & 146.7 &  62   & 3.69 \\\\\n",
       "\tMerc 230 & 140.8 &  95   & 3.92 \\\\\n",
       "\tMerc 280 & 167.6 & 123   & 3.92 \\\\\n",
       "\tMerc 280C & 167.6 & 123   & 3.92 \\\\\n",
       "\tMerc 450SE & 275.8 & 180   & 3.07 \\\\\n",
       "\tMerc 450SL & 275.8 & 180   & 3.07 \\\\\n",
       "\tMerc 450SLC & 275.8 & 180   & 3.07 \\\\\n",
       "\tCadillac Fleetwood & 472.0 & 205   & 2.93 \\\\\n",
       "\tLincoln Continental & 460.0 & 215   & 3.00 \\\\\n",
       "\tChrysler Imperial & 440.0 & 230   & 3.23 \\\\\n",
       "\tFiat 128 &  78.7 &  66   & 4.08 \\\\\n",
       "\tHonda Civic &  75.7 &  52   & 4.93 \\\\\n",
       "\tToyota Corolla &  71.1 &  65   & 4.22 \\\\\n",
       "\tToyota Corona & 120.1 &  97   & 3.70 \\\\\n",
       "\tDodge Challenger & 318.0 & 150   & 2.76 \\\\\n",
       "\tAMC Javelin & 304.0 & 150   & 3.15 \\\\\n",
       "\tCamaro Z28 & 350.0 & 245   & 3.73 \\\\\n",
       "\tPontiac Firebird & 400.0 & 175   & 3.08 \\\\\n",
       "\tFiat X1-9 &  79.0 &  66   & 4.08 \\\\\n",
       "\tPorsche 914-2 & 120.3 &  91   & 4.43 \\\\\n",
       "\tLotus Europa &  95.1 & 113   & 3.77 \\\\\n",
       "\tFord Pantera L & 351.0 & 264   & 4.22 \\\\\n",
       "\tFerrari Dino & 145.0 & 175   & 3.62 \\\\\n",
       "\tMaserati Bora & 301.0 & 335   & 3.54 \\\\\n",
       "\tVolvo 142E & 121.0 & 109   & 4.11 \\\\\n",
       "\\end{tabular}\n"
      ],
      "text/markdown": [
       "\n",
       "| <!--/--> | disp | hp | drat | \n",
       "|---|---|---|---|---|---|---|---|---|---|---|---|---|---|---|---|---|---|---|---|---|---|---|---|---|---|---|---|---|---|---|---|\n",
       "| Mazda RX4 | 160.0 | 110   | 3.90  | \n",
       "| Mazda RX4 Wag | 160.0 | 110   | 3.90  | \n",
       "| Datsun 710 | 108.0 |  93   | 3.85  | \n",
       "| Hornet 4 Drive | 258.0 | 110   | 3.08  | \n",
       "| Hornet Sportabout | 360.0 | 175   | 3.15  | \n",
       "| Valiant | 225.0 | 105   | 2.76  | \n",
       "| Duster 360 | 360.0 | 245   | 3.21  | \n",
       "| Merc 240D | 146.7 |  62   | 3.69  | \n",
       "| Merc 230 | 140.8 |  95   | 3.92  | \n",
       "| Merc 280 | 167.6 | 123   | 3.92  | \n",
       "| Merc 280C | 167.6 | 123   | 3.92  | \n",
       "| Merc 450SE | 275.8 | 180   | 3.07  | \n",
       "| Merc 450SL | 275.8 | 180   | 3.07  | \n",
       "| Merc 450SLC | 275.8 | 180   | 3.07  | \n",
       "| Cadillac Fleetwood | 472.0 | 205   | 2.93  | \n",
       "| Lincoln Continental | 460.0 | 215   | 3.00  | \n",
       "| Chrysler Imperial | 440.0 | 230   | 3.23  | \n",
       "| Fiat 128 |  78.7 |  66   | 4.08  | \n",
       "| Honda Civic |  75.7 |  52   | 4.93  | \n",
       "| Toyota Corolla |  71.1 |  65   | 4.22  | \n",
       "| Toyota Corona | 120.1 |  97   | 3.70  | \n",
       "| Dodge Challenger | 318.0 | 150   | 2.76  | \n",
       "| AMC Javelin | 304.0 | 150   | 3.15  | \n",
       "| Camaro Z28 | 350.0 | 245   | 3.73  | \n",
       "| Pontiac Firebird | 400.0 | 175   | 3.08  | \n",
       "| Fiat X1-9 |  79.0 |  66   | 4.08  | \n",
       "| Porsche 914-2 | 120.3 |  91   | 4.43  | \n",
       "| Lotus Europa |  95.1 | 113   | 3.77  | \n",
       "| Ford Pantera L | 351.0 | 264   | 4.22  | \n",
       "| Ferrari Dino | 145.0 | 175   | 3.62  | \n",
       "| Maserati Bora | 301.0 | 335   | 3.54  | \n",
       "| Volvo 142E | 121.0 | 109   | 4.11  | \n",
       "\n",
       "\n"
      ],
      "text/plain": [
       "                    disp  hp  drat\n",
       "Mazda RX4           160.0 110 3.90\n",
       "Mazda RX4 Wag       160.0 110 3.90\n",
       "Datsun 710          108.0  93 3.85\n",
       "Hornet 4 Drive      258.0 110 3.08\n",
       "Hornet Sportabout   360.0 175 3.15\n",
       "Valiant             225.0 105 2.76\n",
       "Duster 360          360.0 245 3.21\n",
       "Merc 240D           146.7  62 3.69\n",
       "Merc 230            140.8  95 3.92\n",
       "Merc 280            167.6 123 3.92\n",
       "Merc 280C           167.6 123 3.92\n",
       "Merc 450SE          275.8 180 3.07\n",
       "Merc 450SL          275.8 180 3.07\n",
       "Merc 450SLC         275.8 180 3.07\n",
       "Cadillac Fleetwood  472.0 205 2.93\n",
       "Lincoln Continental 460.0 215 3.00\n",
       "Chrysler Imperial   440.0 230 3.23\n",
       "Fiat 128             78.7  66 4.08\n",
       "Honda Civic          75.7  52 4.93\n",
       "Toyota Corolla       71.1  65 4.22\n",
       "Toyota Corona       120.1  97 3.70\n",
       "Dodge Challenger    318.0 150 2.76\n",
       "AMC Javelin         304.0 150 3.15\n",
       "Camaro Z28          350.0 245 3.73\n",
       "Pontiac Firebird    400.0 175 3.08\n",
       "Fiat X1-9            79.0  66 4.08\n",
       "Porsche 914-2       120.3  91 4.43\n",
       "Lotus Europa         95.1 113 3.77\n",
       "Ford Pantera L      351.0 264 4.22\n",
       "Ferrari Dino        145.0 175 3.62\n",
       "Maserati Bora       301.0 335 3.54\n",
       "Volvo 142E          121.0 109 4.11"
      ]
     },
     "metadata": {},
     "output_type": "display_data"
    },
    {
     "data": {
      "text/html": [
       "<table>\n",
       "<thead><tr><th></th><th scope=col>mpg</th><th scope=col>cyl</th><th scope=col>disp</th><th scope=col>hp</th><th scope=col>drat</th><th scope=col>wt</th><th scope=col>qsec</th><th scope=col>vs</th><th scope=col>am</th><th scope=col>gear</th><th scope=col>carb</th></tr></thead>\n",
       "<tbody>\n",
       "\t<tr><th scope=row>Datsun 710</th><td>22.8 </td><td>4    </td><td>108  </td><td> 93  </td><td>3.85 </td><td>2.320</td><td>18.61</td><td>1    </td><td>1    </td><td>4    </td><td>1    </td></tr>\n",
       "\t<tr><th scope=row>Hornet 4 Drive</th><td>21.4 </td><td>6    </td><td>258  </td><td>110  </td><td>3.08 </td><td>3.215</td><td>19.44</td><td>1    </td><td>0    </td><td>3    </td><td>1    </td></tr>\n",
       "\t<tr><th scope=row>Hornet Sportabout</th><td>18.7 </td><td>8    </td><td>360  </td><td>175  </td><td>3.15 </td><td>3.440</td><td>17.02</td><td>0    </td><td>0    </td><td>3    </td><td>2    </td></tr>\n",
       "</tbody>\n",
       "</table>\n"
      ],
      "text/latex": [
       "\\begin{tabular}{r|lllllllllll}\n",
       "  & mpg & cyl & disp & hp & drat & wt & qsec & vs & am & gear & carb\\\\\n",
       "\\hline\n",
       "\tDatsun 710 & 22.8  & 4     & 108   &  93   & 3.85  & 2.320 & 18.61 & 1     & 1     & 4     & 1    \\\\\n",
       "\tHornet 4 Drive & 21.4  & 6     & 258   & 110   & 3.08  & 3.215 & 19.44 & 1     & 0     & 3     & 1    \\\\\n",
       "\tHornet Sportabout & 18.7  & 8     & 360   & 175   & 3.15  & 3.440 & 17.02 & 0     & 0     & 3     & 2    \\\\\n",
       "\\end{tabular}\n"
      ],
      "text/markdown": [
       "\n",
       "| <!--/--> | mpg | cyl | disp | hp | drat | wt | qsec | vs | am | gear | carb | \n",
       "|---|---|---|\n",
       "| Datsun 710 | 22.8  | 4     | 108   |  93   | 3.85  | 2.320 | 18.61 | 1     | 1     | 4     | 1     | \n",
       "| Hornet 4 Drive | 21.4  | 6     | 258   | 110   | 3.08  | 3.215 | 19.44 | 1     | 0     | 3     | 1     | \n",
       "| Hornet Sportabout | 18.7  | 8     | 360   | 175   | 3.15  | 3.440 | 17.02 | 0     | 0     | 3     | 2     | \n",
       "\n",
       "\n"
      ],
      "text/plain": [
       "                  mpg  cyl disp hp  drat wt    qsec  vs am gear carb\n",
       "Datsun 710        22.8 4   108   93 3.85 2.320 18.61 1  1  4    1   \n",
       "Hornet 4 Drive    21.4 6   258  110 3.08 3.215 19.44 1  0  3    1   \n",
       "Hornet Sportabout 18.7 8   360  175 3.15 3.440 17.02 0  0  3    2   "
      ]
     },
     "metadata": {},
     "output_type": "display_data"
    },
    {
     "data": {
      "text/html": [
       "<table>\n",
       "<thead><tr><th scope=col>V1</th><th scope=col>V2</th><th scope=col>V3</th><th scope=col>V4</th></tr></thead>\n",
       "<tbody>\n",
       "\t<tr><td>1      </td><td>A      </td><td> 0.3408</td><td> 1     </td></tr>\n",
       "\t<tr><td>2      </td><td>A      </td><td>-0.7460</td><td> 4     </td></tr>\n",
       "\t<tr><td>1      </td><td>A      </td><td>-0.3795</td><td> 7     </td></tr>\n",
       "\t<tr><td>2      </td><td>A      </td><td>-0.7033</td><td>10     </td></tr>\n",
       "</tbody>\n",
       "</table>\n"
      ],
      "text/latex": [
       "\\begin{tabular}{r|llll}\n",
       " V1 & V2 & V3 & V4\\\\\n",
       "\\hline\n",
       "\t 1       & A       &  0.3408 &  1     \\\\\n",
       "\t 2       & A       & -0.7460 &  4     \\\\\n",
       "\t 1       & A       & -0.3795 &  7     \\\\\n",
       "\t 2       & A       & -0.7033 & 10     \\\\\n",
       "\\end{tabular}\n"
      ],
      "text/markdown": [
       "\n",
       "V1 | V2 | V3 | V4 | \n",
       "|---|---|---|---|\n",
       "| 1       | A       |  0.3408 |  1      | \n",
       "| 2       | A       | -0.7460 |  4      | \n",
       "| 1       | A       | -0.3795 |  7      | \n",
       "| 2       | A       | -0.7033 | 10      | \n",
       "\n",
       "\n"
      ],
      "text/plain": [
       "  V1 V2 V3      V4\n",
       "1 1  A   0.3408  1\n",
       "2 2  A  -0.7460  4\n",
       "3 1  A  -0.3795  7\n",
       "4 2  A  -0.7033 10"
      ]
     },
     "metadata": {},
     "output_type": "display_data"
    },
    {
     "data": {
      "text/html": [
       "<table>\n",
       "<thead><tr><th scope=col>V1</th><th scope=col>V2</th><th scope=col>V3</th><th scope=col>V4</th></tr></thead>\n",
       "<tbody>\n",
       "\t<tr><td>1      </td><td>A      </td><td> 0.3408</td><td> 1     </td></tr>\n",
       "\t<tr><td>2      </td><td>A      </td><td>-0.7460</td><td> 4     </td></tr>\n",
       "\t<tr><td>1      </td><td>A      </td><td>-0.3795</td><td> 7     </td></tr>\n",
       "\t<tr><td>2      </td><td>A      </td><td>-0.7033</td><td>10     </td></tr>\n",
       "</tbody>\n",
       "</table>\n"
      ],
      "text/latex": [
       "\\begin{tabular}{r|llll}\n",
       " V1 & V2 & V3 & V4\\\\\n",
       "\\hline\n",
       "\t 1       & A       &  0.3408 &  1     \\\\\n",
       "\t 2       & A       & -0.7460 &  4     \\\\\n",
       "\t 1       & A       & -0.3795 &  7     \\\\\n",
       "\t 2       & A       & -0.7033 & 10     \\\\\n",
       "\\end{tabular}\n"
      ],
      "text/markdown": [
       "\n",
       "V1 | V2 | V3 | V4 | \n",
       "|---|---|---|---|\n",
       "| 1       | A       |  0.3408 |  1      | \n",
       "| 2       | A       | -0.7460 |  4      | \n",
       "| 1       | A       | -0.3795 |  7      | \n",
       "| 2       | A       | -0.7033 | 10      | \n",
       "\n",
       "\n"
      ],
      "text/plain": [
       "  V1 V2 V3      V4\n",
       "1 1  A   0.3408  1\n",
       "2 2  A  -0.7460  4\n",
       "3 1  A  -0.3795  7\n",
       "4 2  A  -0.7033 10"
      ]
     },
     "metadata": {},
     "output_type": "display_data"
    },
    {
     "data": {
      "text/html": [
       "<table>\n",
       "<thead><tr><th scope=col>V1</th><th scope=col>V2</th><th scope=col>V3</th><th scope=col>V4</th></tr></thead>\n",
       "<tbody>\n",
       "\t<tr><td>1      </td><td>A      </td><td> 0.3408</td><td> 1     </td></tr>\n",
       "\t<tr><td>1      </td><td>C      </td><td>-0.3795</td><td> 3     </td></tr>\n",
       "\t<tr><td>2      </td><td>A      </td><td>-0.7460</td><td> 4     </td></tr>\n",
       "\t<tr><td>2      </td><td>C      </td><td>-0.7033</td><td> 6     </td></tr>\n",
       "\t<tr><td>1      </td><td>A      </td><td>-0.3795</td><td> 7     </td></tr>\n",
       "\t<tr><td>1      </td><td>C      </td><td> 0.3408</td><td> 9     </td></tr>\n",
       "\t<tr><td>2      </td><td>A      </td><td>-0.7033</td><td>10     </td></tr>\n",
       "\t<tr><td>2      </td><td>C      </td><td>-0.7460</td><td>12     </td></tr>\n",
       "</tbody>\n",
       "</table>\n"
      ],
      "text/latex": [
       "\\begin{tabular}{r|llll}\n",
       " V1 & V2 & V3 & V4\\\\\n",
       "\\hline\n",
       "\t 1       & A       &  0.3408 &  1     \\\\\n",
       "\t 1       & C       & -0.3795 &  3     \\\\\n",
       "\t 2       & A       & -0.7460 &  4     \\\\\n",
       "\t 2       & C       & -0.7033 &  6     \\\\\n",
       "\t 1       & A       & -0.3795 &  7     \\\\\n",
       "\t 1       & C       &  0.3408 &  9     \\\\\n",
       "\t 2       & A       & -0.7033 & 10     \\\\\n",
       "\t 2       & C       & -0.7460 & 12     \\\\\n",
       "\\end{tabular}\n"
      ],
      "text/markdown": [
       "\n",
       "V1 | V2 | V3 | V4 | \n",
       "|---|---|---|---|---|---|---|---|\n",
       "| 1       | A       |  0.3408 |  1      | \n",
       "| 1       | C       | -0.3795 |  3      | \n",
       "| 2       | A       | -0.7460 |  4      | \n",
       "| 2       | C       | -0.7033 |  6      | \n",
       "| 1       | A       | -0.3795 |  7      | \n",
       "| 1       | C       |  0.3408 |  9      | \n",
       "| 2       | A       | -0.7033 | 10      | \n",
       "| 2       | C       | -0.7460 | 12      | \n",
       "\n",
       "\n"
      ],
      "text/plain": [
       "  V1 V2 V3      V4\n",
       "1 1  A   0.3408  1\n",
       "2 1  C  -0.3795  3\n",
       "3 2  A  -0.7460  4\n",
       "4 2  C  -0.7033  6\n",
       "5 1  A  -0.3795  7\n",
       "6 1  C   0.3408  9\n",
       "7 2  A  -0.7033 10\n",
       "8 2  C  -0.7460 12"
      ]
     },
     "metadata": {},
     "output_type": "display_data"
    },
    {
     "data": {
      "text/html": [
       "<table>\n",
       "<thead><tr><th></th><th scope=col>mpg</th><th scope=col>cyl</th><th scope=col>disp</th><th scope=col>hp</th><th scope=col>drat</th><th scope=col>wt</th><th scope=col>qsec</th><th scope=col>vs</th><th scope=col>am</th><th scope=col>gear</th><th scope=col>carb</th></tr></thead>\n",
       "<tbody>\n",
       "\t<tr><th scope=row>Mazda RX4</th><td>21.0 </td><td>6    </td><td>160.0</td><td>110  </td><td>3.90 </td><td>2.620</td><td>16.46</td><td>0    </td><td>1    </td><td>4    </td><td>4    </td></tr>\n",
       "\t<tr><th scope=row>Mazda RX4 Wag</th><td>21.0 </td><td>6    </td><td>160.0</td><td>110  </td><td>3.90 </td><td>2.875</td><td>17.02</td><td>0    </td><td>1    </td><td>4    </td><td>4    </td></tr>\n",
       "\t<tr><th scope=row>Datsun 710</th><td>22.8 </td><td>4    </td><td>108.0</td><td> 93  </td><td>3.85 </td><td>2.320</td><td>18.61</td><td>1    </td><td>1    </td><td>4    </td><td>1    </td></tr>\n",
       "\t<tr><th scope=row>Merc 240D</th><td>24.4 </td><td>4    </td><td>146.7</td><td> 62  </td><td>3.69 </td><td>3.190</td><td>20.00</td><td>1    </td><td>0    </td><td>4    </td><td>2    </td></tr>\n",
       "\t<tr><th scope=row>Merc 230</th><td>22.8 </td><td>4    </td><td>140.8</td><td> 95  </td><td>3.92 </td><td>3.150</td><td>22.90</td><td>1    </td><td>0    </td><td>4    </td><td>2    </td></tr>\n",
       "\t<tr><th scope=row>Merc 280</th><td>19.2 </td><td>6    </td><td>167.6</td><td>123  </td><td>3.92 </td><td>3.440</td><td>18.30</td><td>1    </td><td>0    </td><td>4    </td><td>4    </td></tr>\n",
       "\t<tr><th scope=row>Merc 280C</th><td>17.8 </td><td>6    </td><td>167.6</td><td>123  </td><td>3.92 </td><td>3.440</td><td>18.90</td><td>1    </td><td>0    </td><td>4    </td><td>4    </td></tr>\n",
       "\t<tr><th scope=row>Fiat 128</th><td>32.4 </td><td>4    </td><td> 78.7</td><td> 66  </td><td>4.08 </td><td>2.200</td><td>19.47</td><td>1    </td><td>1    </td><td>4    </td><td>1    </td></tr>\n",
       "\t<tr><th scope=row>Honda Civic</th><td>30.4 </td><td>4    </td><td> 75.7</td><td> 52  </td><td>4.93 </td><td>1.615</td><td>18.52</td><td>1    </td><td>1    </td><td>4    </td><td>2    </td></tr>\n",
       "\t<tr><th scope=row>Toyota Corolla</th><td>33.9 </td><td>4    </td><td> 71.1</td><td> 65  </td><td>4.22 </td><td>1.835</td><td>19.90</td><td>1    </td><td>1    </td><td>4    </td><td>1    </td></tr>\n",
       "\t<tr><th scope=row>Fiat X1-9</th><td>27.3 </td><td>4    </td><td> 79.0</td><td> 66  </td><td>4.08 </td><td>1.935</td><td>18.90</td><td>1    </td><td>1    </td><td>4    </td><td>1    </td></tr>\n",
       "\t<tr><th scope=row>Porsche 914-2</th><td>26.0 </td><td>4    </td><td>120.3</td><td> 91  </td><td>4.43 </td><td>2.140</td><td>16.70</td><td>0    </td><td>1    </td><td>5    </td><td>2    </td></tr>\n",
       "\t<tr><th scope=row>Lotus Europa</th><td>30.4 </td><td>4    </td><td> 95.1</td><td>113  </td><td>3.77 </td><td>1.513</td><td>16.90</td><td>1    </td><td>1    </td><td>5    </td><td>2    </td></tr>\n",
       "\t<tr><th scope=row>Ford Pantera L</th><td>15.8 </td><td>8    </td><td>351.0</td><td>264  </td><td>4.22 </td><td>3.170</td><td>14.50</td><td>0    </td><td>1    </td><td>5    </td><td>4    </td></tr>\n",
       "\t<tr><th scope=row>Ferrari Dino</th><td>19.7 </td><td>6    </td><td>145.0</td><td>175  </td><td>3.62 </td><td>2.770</td><td>15.50</td><td>0    </td><td>1    </td><td>5    </td><td>6    </td></tr>\n",
       "\t<tr><th scope=row>Maserati Bora</th><td>15.0 </td><td>8    </td><td>301.0</td><td>335  </td><td>3.54 </td><td>3.570</td><td>14.60</td><td>0    </td><td>1    </td><td>5    </td><td>8    </td></tr>\n",
       "\t<tr><th scope=row>Volvo 142E</th><td>21.4 </td><td>4    </td><td>121.0</td><td>109  </td><td>4.11 </td><td>2.780</td><td>18.60</td><td>1    </td><td>1    </td><td>4    </td><td>2    </td></tr>\n",
       "</tbody>\n",
       "</table>\n"
      ],
      "text/latex": [
       "\\begin{tabular}{r|lllllllllll}\n",
       "  & mpg & cyl & disp & hp & drat & wt & qsec & vs & am & gear & carb\\\\\n",
       "\\hline\n",
       "\tMazda RX4 & 21.0  & 6     & 160.0 & 110   & 3.90  & 2.620 & 16.46 & 0     & 1     & 4     & 4    \\\\\n",
       "\tMazda RX4 Wag & 21.0  & 6     & 160.0 & 110   & 3.90  & 2.875 & 17.02 & 0     & 1     & 4     & 4    \\\\\n",
       "\tDatsun 710 & 22.8  & 4     & 108.0 &  93   & 3.85  & 2.320 & 18.61 & 1     & 1     & 4     & 1    \\\\\n",
       "\tMerc 240D & 24.4  & 4     & 146.7 &  62   & 3.69  & 3.190 & 20.00 & 1     & 0     & 4     & 2    \\\\\n",
       "\tMerc 230 & 22.8  & 4     & 140.8 &  95   & 3.92  & 3.150 & 22.90 & 1     & 0     & 4     & 2    \\\\\n",
       "\tMerc 280 & 19.2  & 6     & 167.6 & 123   & 3.92  & 3.440 & 18.30 & 1     & 0     & 4     & 4    \\\\\n",
       "\tMerc 280C & 17.8  & 6     & 167.6 & 123   & 3.92  & 3.440 & 18.90 & 1     & 0     & 4     & 4    \\\\\n",
       "\tFiat 128 & 32.4  & 4     &  78.7 &  66   & 4.08  & 2.200 & 19.47 & 1     & 1     & 4     & 1    \\\\\n",
       "\tHonda Civic & 30.4  & 4     &  75.7 &  52   & 4.93  & 1.615 & 18.52 & 1     & 1     & 4     & 2    \\\\\n",
       "\tToyota Corolla & 33.9  & 4     &  71.1 &  65   & 4.22  & 1.835 & 19.90 & 1     & 1     & 4     & 1    \\\\\n",
       "\tFiat X1-9 & 27.3  & 4     &  79.0 &  66   & 4.08  & 1.935 & 18.90 & 1     & 1     & 4     & 1    \\\\\n",
       "\tPorsche 914-2 & 26.0  & 4     & 120.3 &  91   & 4.43  & 2.140 & 16.70 & 0     & 1     & 5     & 2    \\\\\n",
       "\tLotus Europa & 30.4  & 4     &  95.1 & 113   & 3.77  & 1.513 & 16.90 & 1     & 1     & 5     & 2    \\\\\n",
       "\tFord Pantera L & 15.8  & 8     & 351.0 & 264   & 4.22  & 3.170 & 14.50 & 0     & 1     & 5     & 4    \\\\\n",
       "\tFerrari Dino & 19.7  & 6     & 145.0 & 175   & 3.62  & 2.770 & 15.50 & 0     & 1     & 5     & 6    \\\\\n",
       "\tMaserati Bora & 15.0  & 8     & 301.0 & 335   & 3.54  & 3.570 & 14.60 & 0     & 1     & 5     & 8    \\\\\n",
       "\tVolvo 142E & 21.4  & 4     & 121.0 & 109   & 4.11  & 2.780 & 18.60 & 1     & 1     & 4     & 2    \\\\\n",
       "\\end{tabular}\n"
      ],
      "text/markdown": [
       "\n",
       "| <!--/--> | mpg | cyl | disp | hp | drat | wt | qsec | vs | am | gear | carb | \n",
       "|---|---|---|---|---|---|---|---|---|---|---|---|---|---|---|---|---|\n",
       "| Mazda RX4 | 21.0  | 6     | 160.0 | 110   | 3.90  | 2.620 | 16.46 | 0     | 1     | 4     | 4     | \n",
       "| Mazda RX4 Wag | 21.0  | 6     | 160.0 | 110   | 3.90  | 2.875 | 17.02 | 0     | 1     | 4     | 4     | \n",
       "| Datsun 710 | 22.8  | 4     | 108.0 |  93   | 3.85  | 2.320 | 18.61 | 1     | 1     | 4     | 1     | \n",
       "| Merc 240D | 24.4  | 4     | 146.7 |  62   | 3.69  | 3.190 | 20.00 | 1     | 0     | 4     | 2     | \n",
       "| Merc 230 | 22.8  | 4     | 140.8 |  95   | 3.92  | 3.150 | 22.90 | 1     | 0     | 4     | 2     | \n",
       "| Merc 280 | 19.2  | 6     | 167.6 | 123   | 3.92  | 3.440 | 18.30 | 1     | 0     | 4     | 4     | \n",
       "| Merc 280C | 17.8  | 6     | 167.6 | 123   | 3.92  | 3.440 | 18.90 | 1     | 0     | 4     | 4     | \n",
       "| Fiat 128 | 32.4  | 4     |  78.7 |  66   | 4.08  | 2.200 | 19.47 | 1     | 1     | 4     | 1     | \n",
       "| Honda Civic | 30.4  | 4     |  75.7 |  52   | 4.93  | 1.615 | 18.52 | 1     | 1     | 4     | 2     | \n",
       "| Toyota Corolla | 33.9  | 4     |  71.1 |  65   | 4.22  | 1.835 | 19.90 | 1     | 1     | 4     | 1     | \n",
       "| Fiat X1-9 | 27.3  | 4     |  79.0 |  66   | 4.08  | 1.935 | 18.90 | 1     | 1     | 4     | 1     | \n",
       "| Porsche 914-2 | 26.0  | 4     | 120.3 |  91   | 4.43  | 2.140 | 16.70 | 0     | 1     | 5     | 2     | \n",
       "| Lotus Europa | 30.4  | 4     |  95.1 | 113   | 3.77  | 1.513 | 16.90 | 1     | 1     | 5     | 2     | \n",
       "| Ford Pantera L | 15.8  | 8     | 351.0 | 264   | 4.22  | 3.170 | 14.50 | 0     | 1     | 5     | 4     | \n",
       "| Ferrari Dino | 19.7  | 6     | 145.0 | 175   | 3.62  | 2.770 | 15.50 | 0     | 1     | 5     | 6     | \n",
       "| Maserati Bora | 15.0  | 8     | 301.0 | 335   | 3.54  | 3.570 | 14.60 | 0     | 1     | 5     | 8     | \n",
       "| Volvo 142E | 21.4  | 4     | 121.0 | 109   | 4.11  | 2.780 | 18.60 | 1     | 1     | 4     | 2     | \n",
       "\n",
       "\n"
      ],
      "text/plain": [
       "               mpg  cyl disp  hp  drat wt    qsec  vs am gear carb\n",
       "Mazda RX4      21.0 6   160.0 110 3.90 2.620 16.46 0  1  4    4   \n",
       "Mazda RX4 Wag  21.0 6   160.0 110 3.90 2.875 17.02 0  1  4    4   \n",
       "Datsun 710     22.8 4   108.0  93 3.85 2.320 18.61 1  1  4    1   \n",
       "Merc 240D      24.4 4   146.7  62 3.69 3.190 20.00 1  0  4    2   \n",
       "Merc 230       22.8 4   140.8  95 3.92 3.150 22.90 1  0  4    2   \n",
       "Merc 280       19.2 6   167.6 123 3.92 3.440 18.30 1  0  4    4   \n",
       "Merc 280C      17.8 6   167.6 123 3.92 3.440 18.90 1  0  4    4   \n",
       "Fiat 128       32.4 4    78.7  66 4.08 2.200 19.47 1  1  4    1   \n",
       "Honda Civic    30.4 4    75.7  52 4.93 1.615 18.52 1  1  4    2   \n",
       "Toyota Corolla 33.9 4    71.1  65 4.22 1.835 19.90 1  1  4    1   \n",
       "Fiat X1-9      27.3 4    79.0  66 4.08 1.935 18.90 1  1  4    1   \n",
       "Porsche 914-2  26.0 4   120.3  91 4.43 2.140 16.70 0  1  5    2   \n",
       "Lotus Europa   30.4 4    95.1 113 3.77 1.513 16.90 1  1  5    2   \n",
       "Ford Pantera L 15.8 8   351.0 264 4.22 3.170 14.50 0  1  5    4   \n",
       "Ferrari Dino   19.7 6   145.0 175 3.62 2.770 15.50 0  1  5    6   \n",
       "Maserati Bora  15.0 8   301.0 335 3.54 3.570 14.60 0  1  5    8   \n",
       "Volvo 142E     21.4 4   121.0 109 4.11 2.780 18.60 1  1  4    2   "
      ]
     },
     "metadata": {},
     "output_type": "display_data"
    },
    {
     "data": {
      "text/html": [
       "<ol class=list-inline>\n",
       "\t<li>'A'</li>\n",
       "\t<li>'B'</li>\n",
       "\t<li>'C'</li>\n",
       "\t<li>'A'</li>\n",
       "\t<li>'B'</li>\n",
       "\t<li>'C'</li>\n",
       "\t<li>'A'</li>\n",
       "\t<li>'B'</li>\n",
       "\t<li>'C'</li>\n",
       "\t<li>'A'</li>\n",
       "\t<li>'B'</li>\n",
       "\t<li>'C'</li>\n",
       "</ol>\n"
      ],
      "text/latex": [
       "\\begin{enumerate*}\n",
       "\\item 'A'\n",
       "\\item 'B'\n",
       "\\item 'C'\n",
       "\\item 'A'\n",
       "\\item 'B'\n",
       "\\item 'C'\n",
       "\\item 'A'\n",
       "\\item 'B'\n",
       "\\item 'C'\n",
       "\\item 'A'\n",
       "\\item 'B'\n",
       "\\item 'C'\n",
       "\\end{enumerate*}\n"
      ],
      "text/markdown": [
       "1. 'A'\n",
       "2. 'B'\n",
       "3. 'C'\n",
       "4. 'A'\n",
       "5. 'B'\n",
       "6. 'C'\n",
       "7. 'A'\n",
       "8. 'B'\n",
       "9. 'C'\n",
       "10. 'A'\n",
       "11. 'B'\n",
       "12. 'C'\n",
       "\n",
       "\n"
      ],
      "text/plain": [
       " [1] \"A\" \"B\" \"C\" \"A\" \"B\" \"C\" \"A\" \"B\" \"C\" \"A\" \"B\" \"C\""
      ]
     },
     "metadata": {},
     "output_type": "display_data"
    },
    {
     "data": {
      "text/html": [
       "<table>\n",
       "<thead><tr><th scope=col>V2</th></tr></thead>\n",
       "<tbody>\n",
       "\t<tr><td>A</td></tr>\n",
       "\t<tr><td>B</td></tr>\n",
       "\t<tr><td>C</td></tr>\n",
       "\t<tr><td>A</td></tr>\n",
       "\t<tr><td>B</td></tr>\n",
       "\t<tr><td>C</td></tr>\n",
       "\t<tr><td>A</td></tr>\n",
       "\t<tr><td>B</td></tr>\n",
       "\t<tr><td>C</td></tr>\n",
       "\t<tr><td>A</td></tr>\n",
       "\t<tr><td>B</td></tr>\n",
       "\t<tr><td>C</td></tr>\n",
       "</tbody>\n",
       "</table>\n"
      ],
      "text/latex": [
       "\\begin{tabular}{r|l}\n",
       " V2\\\\\n",
       "\\hline\n",
       "\t A\\\\\n",
       "\t B\\\\\n",
       "\t C\\\\\n",
       "\t A\\\\\n",
       "\t B\\\\\n",
       "\t C\\\\\n",
       "\t A\\\\\n",
       "\t B\\\\\n",
       "\t C\\\\\n",
       "\t A\\\\\n",
       "\t B\\\\\n",
       "\t C\\\\\n",
       "\\end{tabular}\n"
      ],
      "text/markdown": [
       "\n",
       "V2 | \n",
       "|---|---|---|---|---|---|---|---|---|---|---|---|\n",
       "| A | \n",
       "| B | \n",
       "| C | \n",
       "| A | \n",
       "| B | \n",
       "| C | \n",
       "| A | \n",
       "| B | \n",
       "| C | \n",
       "| A | \n",
       "| B | \n",
       "| C | \n",
       "\n",
       "\n"
      ],
      "text/plain": [
       "   V2\n",
       "1  A \n",
       "2  B \n",
       "3  C \n",
       "4  A \n",
       "5  B \n",
       "6  C \n",
       "7  A \n",
       "8  B \n",
       "9  C \n",
       "10 A \n",
       "11 B \n",
       "12 C "
      ]
     },
     "metadata": {},
     "output_type": "display_data"
    },
    {
     "data": {
      "text/html": [
       "<ol class=list-inline>\n",
       "\t<li>160</li>\n",
       "\t<li>160</li>\n",
       "\t<li>108</li>\n",
       "\t<li>258</li>\n",
       "\t<li>360</li>\n",
       "\t<li>225</li>\n",
       "\t<li>360</li>\n",
       "\t<li>146.7</li>\n",
       "\t<li>140.8</li>\n",
       "\t<li>167.6</li>\n",
       "\t<li>167.6</li>\n",
       "\t<li>275.8</li>\n",
       "\t<li>275.8</li>\n",
       "\t<li>275.8</li>\n",
       "\t<li>472</li>\n",
       "\t<li>460</li>\n",
       "\t<li>440</li>\n",
       "\t<li>78.7</li>\n",
       "\t<li>75.7</li>\n",
       "\t<li>71.1</li>\n",
       "\t<li>120.1</li>\n",
       "\t<li>318</li>\n",
       "\t<li>304</li>\n",
       "\t<li>350</li>\n",
       "\t<li>400</li>\n",
       "\t<li>79</li>\n",
       "\t<li>120.3</li>\n",
       "\t<li>95.1</li>\n",
       "\t<li>351</li>\n",
       "\t<li>145</li>\n",
       "\t<li>301</li>\n",
       "\t<li>121</li>\n",
       "</ol>\n"
      ],
      "text/latex": [
       "\\begin{enumerate*}\n",
       "\\item 160\n",
       "\\item 160\n",
       "\\item 108\n",
       "\\item 258\n",
       "\\item 360\n",
       "\\item 225\n",
       "\\item 360\n",
       "\\item 146.7\n",
       "\\item 140.8\n",
       "\\item 167.6\n",
       "\\item 167.6\n",
       "\\item 275.8\n",
       "\\item 275.8\n",
       "\\item 275.8\n",
       "\\item 472\n",
       "\\item 460\n",
       "\\item 440\n",
       "\\item 78.7\n",
       "\\item 75.7\n",
       "\\item 71.1\n",
       "\\item 120.1\n",
       "\\item 318\n",
       "\\item 304\n",
       "\\item 350\n",
       "\\item 400\n",
       "\\item 79\n",
       "\\item 120.3\n",
       "\\item 95.1\n",
       "\\item 351\n",
       "\\item 145\n",
       "\\item 301\n",
       "\\item 121\n",
       "\\end{enumerate*}\n"
      ],
      "text/markdown": [
       "1. 160\n",
       "2. 160\n",
       "3. 108\n",
       "4. 258\n",
       "5. 360\n",
       "6. 225\n",
       "7. 360\n",
       "8. 146.7\n",
       "9. 140.8\n",
       "10. 167.6\n",
       "11. 167.6\n",
       "12. 275.8\n",
       "13. 275.8\n",
       "14. 275.8\n",
       "15. 472\n",
       "16. 460\n",
       "17. 440\n",
       "18. 78.7\n",
       "19. 75.7\n",
       "20. 71.1\n",
       "21. 120.1\n",
       "22. 318\n",
       "23. 304\n",
       "24. 350\n",
       "25. 400\n",
       "26. 79\n",
       "27. 120.3\n",
       "28. 95.1\n",
       "29. 351\n",
       "30. 145\n",
       "31. 301\n",
       "32. 121\n",
       "\n",
       "\n"
      ],
      "text/plain": [
       " [1] 160.0 160.0 108.0 258.0 360.0 225.0 360.0 146.7 140.8 167.6 167.6 275.8\n",
       "[13] 275.8 275.8 472.0 460.0 440.0  78.7  75.7  71.1 120.1 318.0 304.0 350.0\n",
       "[25] 400.0  79.0 120.3  95.1 351.0 145.0 301.0 121.0"
      ]
     },
     "metadata": {},
     "output_type": "display_data"
    },
    {
     "data": {
      "text/html": [
       "<table>\n",
       "<thead><tr><th scope=col>V2</th><th scope=col>V3</th></tr></thead>\n",
       "<tbody>\n",
       "\t<tr><td>A      </td><td> 0.3408</td></tr>\n",
       "\t<tr><td>B      </td><td>-0.7033</td></tr>\n",
       "\t<tr><td>C      </td><td>-0.3795</td></tr>\n",
       "\t<tr><td>A      </td><td>-0.7460</td></tr>\n",
       "\t<tr><td>B      </td><td> 0.3408</td></tr>\n",
       "\t<tr><td>C      </td><td>-0.7033</td></tr>\n",
       "\t<tr><td>A      </td><td>-0.3795</td></tr>\n",
       "\t<tr><td>B      </td><td>-0.7460</td></tr>\n",
       "\t<tr><td>C      </td><td> 0.3408</td></tr>\n",
       "\t<tr><td>A      </td><td>-0.7033</td></tr>\n",
       "\t<tr><td>B      </td><td>-0.3795</td></tr>\n",
       "\t<tr><td>C      </td><td>-0.7460</td></tr>\n",
       "</tbody>\n",
       "</table>\n"
      ],
      "text/latex": [
       "\\begin{tabular}{r|ll}\n",
       " V2 & V3\\\\\n",
       "\\hline\n",
       "\t A       &  0.3408\\\\\n",
       "\t B       & -0.7033\\\\\n",
       "\t C       & -0.3795\\\\\n",
       "\t A       & -0.7460\\\\\n",
       "\t B       &  0.3408\\\\\n",
       "\t C       & -0.7033\\\\\n",
       "\t A       & -0.3795\\\\\n",
       "\t B       & -0.7460\\\\\n",
       "\t C       &  0.3408\\\\\n",
       "\t A       & -0.7033\\\\\n",
       "\t B       & -0.3795\\\\\n",
       "\t C       & -0.7460\\\\\n",
       "\\end{tabular}\n"
      ],
      "text/markdown": [
       "\n",
       "V2 | V3 | \n",
       "|---|---|---|---|---|---|---|---|---|---|---|---|\n",
       "| A       |  0.3408 | \n",
       "| B       | -0.7033 | \n",
       "| C       | -0.3795 | \n",
       "| A       | -0.7460 | \n",
       "| B       |  0.3408 | \n",
       "| C       | -0.7033 | \n",
       "| A       | -0.3795 | \n",
       "| B       | -0.7460 | \n",
       "| C       |  0.3408 | \n",
       "| A       | -0.7033 | \n",
       "| B       | -0.3795 | \n",
       "| C       | -0.7460 | \n",
       "\n",
       "\n"
      ],
      "text/plain": [
       "   V2 V3     \n",
       "1  A   0.3408\n",
       "2  B  -0.7033\n",
       "3  C  -0.3795\n",
       "4  A  -0.7460\n",
       "5  B   0.3408\n",
       "6  C  -0.7033\n",
       "7  A  -0.3795\n",
       "8  B  -0.7460\n",
       "9  C   0.3408\n",
       "10 A  -0.7033\n",
       "11 B  -0.3795\n",
       "12 C  -0.7460"
      ]
     },
     "metadata": {},
     "output_type": "display_data"
    },
    {
     "data": {
      "text/html": [
       "18"
      ],
      "text/latex": [
       "18"
      ],
      "text/markdown": [
       "18"
      ],
      "text/plain": [
       "[1] 18"
      ]
     },
     "metadata": {},
     "output_type": "display_data"
    },
    {
     "data": {
      "text/html": [
       "<ol class=list-inline>\n",
       "\t<li>'data.table'</li>\n",
       "\t<li>'data.frame'</li>\n",
       "</ol>\n"
      ],
      "text/latex": [
       "\\begin{enumerate*}\n",
       "\\item 'data.table'\n",
       "\\item 'data.frame'\n",
       "\\end{enumerate*}\n"
      ],
      "text/markdown": [
       "1. 'data.table'\n",
       "2. 'data.frame'\n",
       "\n",
       "\n"
      ],
      "text/plain": [
       "[1] \"data.table\" \"data.frame\""
      ]
     },
     "metadata": {},
     "output_type": "display_data"
    },
    {
     "data": {
      "text/html": [
       "<table>\n",
       "<thead><tr><th scope=col>Aggregate</th><th scope=col>Sd.V3</th></tr></thead>\n",
       "<tbody>\n",
       "\t<tr><td>18       </td><td>0.4546055</td></tr>\n",
       "</tbody>\n",
       "</table>\n"
      ],
      "text/latex": [
       "\\begin{tabular}{r|ll}\n",
       " Aggregate & Sd.V3\\\\\n",
       "\\hline\n",
       "\t 18        & 0.4546055\\\\\n",
       "\\end{tabular}\n"
      ],
      "text/markdown": [
       "\n",
       "Aggregate | Sd.V3 | \n",
       "|---|\n",
       "| 18        | 0.4546055 | \n",
       "\n",
       "\n"
      ],
      "text/plain": [
       "  Aggregate Sd.V3    \n",
       "1 18        0.4546055"
      ]
     },
     "metadata": {},
     "output_type": "display_data"
    },
    {
     "data": {
      "text/html": [
       "<table>\n",
       "<thead><tr><th scope=col>V1</th><th scope=col>Sd.V3</th></tr></thead>\n",
       "<tbody>\n",
       "\t<tr><td>1        </td><td>0.4546055</td></tr>\n",
       "\t<tr><td>2        </td><td>0.4546055</td></tr>\n",
       "\t<tr><td>1        </td><td>0.4546055</td></tr>\n",
       "\t<tr><td>2        </td><td>0.4546055</td></tr>\n",
       "\t<tr><td>1        </td><td>0.4546055</td></tr>\n",
       "\t<tr><td>2        </td><td>0.4546055</td></tr>\n",
       "\t<tr><td>1        </td><td>0.4546055</td></tr>\n",
       "\t<tr><td>2        </td><td>0.4546055</td></tr>\n",
       "\t<tr><td>1        </td><td>0.4546055</td></tr>\n",
       "\t<tr><td>2        </td><td>0.4546055</td></tr>\n",
       "\t<tr><td>1        </td><td>0.4546055</td></tr>\n",
       "\t<tr><td>2        </td><td>0.4546055</td></tr>\n",
       "</tbody>\n",
       "</table>\n"
      ],
      "text/latex": [
       "\\begin{tabular}{r|ll}\n",
       " V1 & Sd.V3\\\\\n",
       "\\hline\n",
       "\t 1         & 0.4546055\\\\\n",
       "\t 2         & 0.4546055\\\\\n",
       "\t 1         & 0.4546055\\\\\n",
       "\t 2         & 0.4546055\\\\\n",
       "\t 1         & 0.4546055\\\\\n",
       "\t 2         & 0.4546055\\\\\n",
       "\t 1         & 0.4546055\\\\\n",
       "\t 2         & 0.4546055\\\\\n",
       "\t 1         & 0.4546055\\\\\n",
       "\t 2         & 0.4546055\\\\\n",
       "\t 1         & 0.4546055\\\\\n",
       "\t 2         & 0.4546055\\\\\n",
       "\\end{tabular}\n"
      ],
      "text/markdown": [
       "\n",
       "V1 | Sd.V3 | \n",
       "|---|---|---|---|---|---|---|---|---|---|---|---|\n",
       "| 1         | 0.4546055 | \n",
       "| 2         | 0.4546055 | \n",
       "| 1         | 0.4546055 | \n",
       "| 2         | 0.4546055 | \n",
       "| 1         | 0.4546055 | \n",
       "| 2         | 0.4546055 | \n",
       "| 1         | 0.4546055 | \n",
       "| 2         | 0.4546055 | \n",
       "| 1         | 0.4546055 | \n",
       "| 2         | 0.4546055 | \n",
       "| 1         | 0.4546055 | \n",
       "| 2         | 0.4546055 | \n",
       "\n",
       "\n"
      ],
      "text/plain": [
       "   V1 Sd.V3    \n",
       "1  1  0.4546055\n",
       "2  2  0.4546055\n",
       "3  1  0.4546055\n",
       "4  2  0.4546055\n",
       "5  1  0.4546055\n",
       "6  2  0.4546055\n",
       "7  1  0.4546055\n",
       "8  2  0.4546055\n",
       "9  1  0.4546055\n",
       "10 2  0.4546055\n",
       "11 1  0.4546055\n",
       "12 2  0.4546055"
      ]
     },
     "metadata": {},
     "output_type": "display_data"
    },
    {
     "name": "stdout",
     "output_type": "stream",
     "text": [
      " [1] \"A\" \"B\" \"C\" \"A\" \"B\" \"C\" \"A\" \"B\" \"C\" \"A\" \"B\" \"C\"\n"
     ]
    },
    {
     "data": {
      "text/plain": [
       "NULL"
      ]
     },
     "metadata": {},
     "output_type": "display_data"
    },
    {
     "data": {
      "image/png": "[encoded data removed]",
      "text/plain": [
       "plot without title"
      ]
     },
     "metadata": {},
     "output_type": "display_data"
    }
   ],
   "source": [
    "substring(class(length(head(letters))),2,5) # avoided using piping\n",
    "letters %>% \n",
    "  head() %>% \n",
    "  length() %>% \n",
    "  class() %>% \n",
    "  substring(2,5) \n",
    "# data.table package General form: DT[i, j, by]\n",
    "# Create a data.table and call it DT.\n",
    "set.seed(45L)\n",
    "DT <- data.table(V1=c(1L,2L),\n",
    "                 V2=LETTERS[1:3],\n",
    "                 V3=round(rnorm(4),4),\n",
    "                 V4=1:12)\n",
    "class(DT)\n",
    "# SUBSETTING ROWS USING i\n",
    "# Subsetting rows by numbers\n",
    "DT[3:5,] #or DT[3:5]  Selects third to fifth row.\n",
    "DT[3:5]  # it only consider as the rows\n",
    "mtcars[3:5] # for data frame we will get the columns by default without comma\n",
    "mtcars[3:5,] # for data frame we will get rows using comma\n",
    "\n",
    "# Selects all rows that have value A in column V2\n",
    "DT[ V2 == \"A\"]  # similar operation on mtcars data frame syntax is: mtcars[mtcars$vs==1,]\n",
    "DT[DT$V2 == \"A\",] # it acts like a data.table as well as data.frame\n",
    "\n",
    "# Select all rows that have the value A or C in column V2.\n",
    "DT[ V2 %in% c(\"A\",\"C\")] #  for data frame: mtcars[mtcars$gear == c(4,5),]\n",
    "mtcars[mtcars$gear %in% c(4,5),] # will  not get our expected output using mtcars[mtcars$gear == c(4,5),], better to avoid\n",
    "# MANIPULATING ON COLUMNS IN j\n",
    "DT[,V2] # mtcars[,2] # no need of double quotes for column names\n",
    "# Select several columns in j.\n",
    "tblDT <- as_tibble(DT) \n",
    "tblDT[,\"V2\"]  # for tibble or data frames we need to give double quotes to input a column\n",
    "mtcars[,\"disp\"]\n",
    "# Select several columns in j.\n",
    "DT[,.(V2,V3)] #for data frames the syntax would be mtcars[,c(\"disp\",\"hp\")]\n",
    "# Call functions in j.\n",
    "DT[,sum(V1)] #Returns the sum of all elements of column V1 in a vector.\n",
    "ss<- DT[,.(sum(V1),sd(V3))] # Returns the sum of all elements of column V1 and the standard deviation of V3 in a data.table.\n",
    "class(ss)\n",
    "# Assigning column names to computed columns.\n",
    "DT[,.(Aggregate = sum(V1), Sd.V3 = sd(V3))] #The same as above, but with new names.\n",
    "# Columns get recycled if different length.\n",
    "DT[,.(V1, Sd.V3 = sd(V3))] #Selects column V1, and compute std. dev. of V3, which returns a single value and gets recycled\n",
    "# Multiple expressions can be wrapped in curly braces.\n",
    "DT[,{print(V2) # Print column V2 and plot V3.\n",
    "  plot(V3)\n",
    "  NULL}]"
   ]
  },
  {
   "cell_type": "code",
   "execution_count": 4,
   "metadata": {},
   "outputs": [
    {
     "data": {
      "text/html": [
       "<ol class=list-inline>\n",
       "\t<li>'data.table'</li>\n",
       "\t<li>'data.frame'</li>\n",
       "</ol>\n"
      ],
      "text/latex": [
       "\\begin{enumerate*}\n",
       "\\item 'data.table'\n",
       "\\item 'data.frame'\n",
       "\\end{enumerate*}\n"
      ],
      "text/markdown": [
       "1. 'data.table'\n",
       "2. 'data.frame'\n",
       "\n",
       "\n"
      ],
      "text/plain": [
       "[1] \"data.table\" \"data.frame\""
      ]
     },
     "metadata": {},
     "output_type": "display_data"
    },
    {
     "data": {
      "text/html": [
       "'data.frame'"
      ],
      "text/latex": [
       "'data.frame'"
      ],
      "text/markdown": [
       "'data.frame'"
      ],
      "text/plain": [
       "[1] \"data.frame\""
      ]
     },
     "metadata": {},
     "output_type": "display_data"
    },
    {
     "data": {
      "text/html": [
       "<table>\n",
       "<thead><tr><th></th><th scope=col>disp</th><th scope=col>hp</th><th scope=col>drat</th></tr></thead>\n",
       "<tbody>\n",
       "\t<tr><th scope=row>Mazda RX4</th><td>160.0</td><td>110  </td><td>3.90 </td></tr>\n",
       "\t<tr><th scope=row>Mazda RX4 Wag</th><td>160.0</td><td>110  </td><td>3.90 </td></tr>\n",
       "\t<tr><th scope=row>Datsun 710</th><td>108.0</td><td> 93  </td><td>3.85 </td></tr>\n",
       "\t<tr><th scope=row>Hornet 4 Drive</th><td>258.0</td><td>110  </td><td>3.08 </td></tr>\n",
       "\t<tr><th scope=row>Hornet Sportabout</th><td>360.0</td><td>175  </td><td>3.15 </td></tr>\n",
       "\t<tr><th scope=row>Valiant</th><td>225.0</td><td>105  </td><td>2.76 </td></tr>\n",
       "\t<tr><th scope=row>Duster 360</th><td>360.0</td><td>245  </td><td>3.21 </td></tr>\n",
       "\t<tr><th scope=row>Merc 240D</th><td>146.7</td><td> 62  </td><td>3.69 </td></tr>\n",
       "\t<tr><th scope=row>Merc 230</th><td>140.8</td><td> 95  </td><td>3.92 </td></tr>\n",
       "\t<tr><th scope=row>Merc 280</th><td>167.6</td><td>123  </td><td>3.92 </td></tr>\n",
       "\t<tr><th scope=row>Merc 280C</th><td>167.6</td><td>123  </td><td>3.92 </td></tr>\n",
       "\t<tr><th scope=row>Merc 450SE</th><td>275.8</td><td>180  </td><td>3.07 </td></tr>\n",
       "\t<tr><th scope=row>Merc 450SL</th><td>275.8</td><td>180  </td><td>3.07 </td></tr>\n",
       "\t<tr><th scope=row>Merc 450SLC</th><td>275.8</td><td>180  </td><td>3.07 </td></tr>\n",
       "\t<tr><th scope=row>Cadillac Fleetwood</th><td>472.0</td><td>205  </td><td>2.93 </td></tr>\n",
       "\t<tr><th scope=row>Lincoln Continental</th><td>460.0</td><td>215  </td><td>3.00 </td></tr>\n",
       "\t<tr><th scope=row>Chrysler Imperial</th><td>440.0</td><td>230  </td><td>3.23 </td></tr>\n",
       "\t<tr><th scope=row>Fiat 128</th><td> 78.7</td><td> 66  </td><td>4.08 </td></tr>\n",
       "\t<tr><th scope=row>Honda Civic</th><td> 75.7</td><td> 52  </td><td>4.93 </td></tr>\n",
       "\t<tr><th scope=row>Toyota Corolla</th><td> 71.1</td><td> 65  </td><td>4.22 </td></tr>\n",
       "\t<tr><th scope=row>Toyota Corona</th><td>120.1</td><td> 97  </td><td>3.70 </td></tr>\n",
       "\t<tr><th scope=row>Dodge Challenger</th><td>318.0</td><td>150  </td><td>2.76 </td></tr>\n",
       "\t<tr><th scope=row>AMC Javelin</th><td>304.0</td><td>150  </td><td>3.15 </td></tr>\n",
       "\t<tr><th scope=row>Camaro Z28</th><td>350.0</td><td>245  </td><td>3.73 </td></tr>\n",
       "\t<tr><th scope=row>Pontiac Firebird</th><td>400.0</td><td>175  </td><td>3.08 </td></tr>\n",
       "\t<tr><th scope=row>Fiat X1-9</th><td> 79.0</td><td> 66  </td><td>4.08 </td></tr>\n",
       "\t<tr><th scope=row>Porsche 914-2</th><td>120.3</td><td> 91  </td><td>4.43 </td></tr>\n",
       "\t<tr><th scope=row>Lotus Europa</th><td> 95.1</td><td>113  </td><td>3.77 </td></tr>\n",
       "\t<tr><th scope=row>Ford Pantera L</th><td>351.0</td><td>264  </td><td>4.22 </td></tr>\n",
       "\t<tr><th scope=row>Ferrari Dino</th><td>145.0</td><td>175  </td><td>3.62 </td></tr>\n",
       "\t<tr><th scope=row>Maserati Bora</th><td>301.0</td><td>335  </td><td>3.54 </td></tr>\n",
       "\t<tr><th scope=row>Volvo 142E</th><td>121.0</td><td>109  </td><td>4.11 </td></tr>\n",
       "</tbody>\n",
       "</table>\n"
      ],
      "text/latex": [
       "\\begin{tabular}{r|lll}\n",
       "  & disp & hp & drat\\\\\n",
       "\\hline\n",
       "\tMazda RX4 & 160.0 & 110   & 3.90 \\\\\n",
       "\tMazda RX4 Wag & 160.0 & 110   & 3.90 \\\\\n",
       "\tDatsun 710 & 108.0 &  93   & 3.85 \\\\\n",
       "\tHornet 4 Drive & 258.0 & 110   & 3.08 \\\\\n",
       "\tHornet Sportabout & 360.0 & 175   & 3.15 \\\\\n",
       "\tValiant & 225.0 & 105   & 2.76 \\\\\n",
       "\tDuster 360 & 360.0 & 245   & 3.21 \\\\\n",
       "\tMerc 240D & 146.7 &  62   & 3.69 \\\\\n",
       "\tMerc 230 & 140.8 &  95   & 3.92 \\\\\n",
       "\tMerc 280 & 167.6 & 123   & 3.92 \\\\\n",
       "\tMerc 280C & 167.6 & 123   & 3.92 \\\\\n",
       "\tMerc 450SE & 275.8 & 180   & 3.07 \\\\\n",
       "\tMerc 450SL & 275.8 & 180   & 3.07 \\\\\n",
       "\tMerc 450SLC & 275.8 & 180   & 3.07 \\\\\n",
       "\tCadillac Fleetwood & 472.0 & 205   & 2.93 \\\\\n",
       "\tLincoln Continental & 460.0 & 215   & 3.00 \\\\\n",
       "\tChrysler Imperial & 440.0 & 230   & 3.23 \\\\\n",
       "\tFiat 128 &  78.7 &  66   & 4.08 \\\\\n",
       "\tHonda Civic &  75.7 &  52   & 4.93 \\\\\n",
       "\tToyota Corolla &  71.1 &  65   & 4.22 \\\\\n",
       "\tToyota Corona & 120.1 &  97   & 3.70 \\\\\n",
       "\tDodge Challenger & 318.0 & 150   & 2.76 \\\\\n",
       "\tAMC Javelin & 304.0 & 150   & 3.15 \\\\\n",
       "\tCamaro Z28 & 350.0 & 245   & 3.73 \\\\\n",
       "\tPontiac Firebird & 400.0 & 175   & 3.08 \\\\\n",
       "\tFiat X1-9 &  79.0 &  66   & 4.08 \\\\\n",
       "\tPorsche 914-2 & 120.3 &  91   & 4.43 \\\\\n",
       "\tLotus Europa &  95.1 & 113   & 3.77 \\\\\n",
       "\tFord Pantera L & 351.0 & 264   & 4.22 \\\\\n",
       "\tFerrari Dino & 145.0 & 175   & 3.62 \\\\\n",
       "\tMaserati Bora & 301.0 & 335   & 3.54 \\\\\n",
       "\tVolvo 142E & 121.0 & 109   & 4.11 \\\\\n",
       "\\end{tabular}\n"
      ],
      "text/markdown": [
       "\n",
       "| <!--/--> | disp | hp | drat | \n",
       "|---|---|---|---|---|---|---|---|---|---|---|---|---|---|---|---|---|---|---|---|---|---|---|---|---|---|---|---|---|---|---|---|\n",
       "| Mazda RX4 | 160.0 | 110   | 3.90  | \n",
       "| Mazda RX4 Wag | 160.0 | 110   | 3.90  | \n",
       "| Datsun 710 | 108.0 |  93   | 3.85  | \n",
       "| Hornet 4 Drive | 258.0 | 110   | 3.08  | \n",
       "| Hornet Sportabout | 360.0 | 175   | 3.15  | \n",
       "| Valiant | 225.0 | 105   | 2.76  | \n",
       "| Duster 360 | 360.0 | 245   | 3.21  | \n",
       "| Merc 240D | 146.7 |  62   | 3.69  | \n",
       "| Merc 230 | 140.8 |  95   | 3.92  | \n",
       "| Merc 280 | 167.6 | 123   | 3.92  | \n",
       "| Merc 280C | 167.6 | 123   | 3.92  | \n",
       "| Merc 450SE | 275.8 | 180   | 3.07  | \n",
       "| Merc 450SL | 275.8 | 180   | 3.07  | \n",
       "| Merc 450SLC | 275.8 | 180   | 3.07  | \n",
       "| Cadillac Fleetwood | 472.0 | 205   | 2.93  | \n",
       "| Lincoln Continental | 460.0 | 215   | 3.00  | \n",
       "| Chrysler Imperial | 440.0 | 230   | 3.23  | \n",
       "| Fiat 128 |  78.7 |  66   | 4.08  | \n",
       "| Honda Civic |  75.7 |  52   | 4.93  | \n",
       "| Toyota Corolla |  71.1 |  65   | 4.22  | \n",
       "| Toyota Corona | 120.1 |  97   | 3.70  | \n",
       "| Dodge Challenger | 318.0 | 150   | 2.76  | \n",
       "| AMC Javelin | 304.0 | 150   | 3.15  | \n",
       "| Camaro Z28 | 350.0 | 245   | 3.73  | \n",
       "| Pontiac Firebird | 400.0 | 175   | 3.08  | \n",
       "| Fiat X1-9 |  79.0 |  66   | 4.08  | \n",
       "| Porsche 914-2 | 120.3 |  91   | 4.43  | \n",
       "| Lotus Europa |  95.1 | 113   | 3.77  | \n",
       "| Ford Pantera L | 351.0 | 264   | 4.22  | \n",
       "| Ferrari Dino | 145.0 | 175   | 3.62  | \n",
       "| Maserati Bora | 301.0 | 335   | 3.54  | \n",
       "| Volvo 142E | 121.0 | 109   | 4.11  | \n",
       "\n",
       "\n"
      ],
      "text/plain": [
       "                    disp  hp  drat\n",
       "Mazda RX4           160.0 110 3.90\n",
       "Mazda RX4 Wag       160.0 110 3.90\n",
       "Datsun 710          108.0  93 3.85\n",
       "Hornet 4 Drive      258.0 110 3.08\n",
       "Hornet Sportabout   360.0 175 3.15\n",
       "Valiant             225.0 105 2.76\n",
       "Duster 360          360.0 245 3.21\n",
       "Merc 240D           146.7  62 3.69\n",
       "Merc 230            140.8  95 3.92\n",
       "Merc 280            167.6 123 3.92\n",
       "Merc 280C           167.6 123 3.92\n",
       "Merc 450SE          275.8 180 3.07\n",
       "Merc 450SL          275.8 180 3.07\n",
       "Merc 450SLC         275.8 180 3.07\n",
       "Cadillac Fleetwood  472.0 205 2.93\n",
       "Lincoln Continental 460.0 215 3.00\n",
       "Chrysler Imperial   440.0 230 3.23\n",
       "Fiat 128             78.7  66 4.08\n",
       "Honda Civic          75.7  52 4.93\n",
       "Toyota Corolla       71.1  65 4.22\n",
       "Toyota Corona       120.1  97 3.70\n",
       "Dodge Challenger    318.0 150 2.76\n",
       "AMC Javelin         304.0 150 3.15\n",
       "Camaro Z28          350.0 245 3.73\n",
       "Pontiac Firebird    400.0 175 3.08\n",
       "Fiat X1-9            79.0  66 4.08\n",
       "Porsche 914-2       120.3  91 4.43\n",
       "Lotus Europa         95.1 113 3.77\n",
       "Ford Pantera L      351.0 264 4.22\n",
       "Ferrari Dino        145.0 175 3.62\n",
       "Maserati Bora       301.0 335 3.54\n",
       "Volvo 142E          121.0 109 4.11"
      ]
     },
     "metadata": {},
     "output_type": "display_data"
    },
    {
     "data": {
      "text/html": [
       "<table>\n",
       "<thead><tr><th></th><th scope=col>mpg</th><th scope=col>cyl</th><th scope=col>disp</th><th scope=col>hp</th><th scope=col>drat</th><th scope=col>wt</th><th scope=col>qsec</th><th scope=col>vs</th><th scope=col>am</th><th scope=col>gear</th><th scope=col>carb</th></tr></thead>\n",
       "<tbody>\n",
       "\t<tr><th scope=row>Datsun 710</th><td>22.8 </td><td>4    </td><td>108  </td><td> 93  </td><td>3.85 </td><td>2.320</td><td>18.61</td><td>1    </td><td>1    </td><td>4    </td><td>1    </td></tr>\n",
       "\t<tr><th scope=row>Hornet 4 Drive</th><td>21.4 </td><td>6    </td><td>258  </td><td>110  </td><td>3.08 </td><td>3.215</td><td>19.44</td><td>1    </td><td>0    </td><td>3    </td><td>1    </td></tr>\n",
       "\t<tr><th scope=row>Hornet Sportabout</th><td>18.7 </td><td>8    </td><td>360  </td><td>175  </td><td>3.15 </td><td>3.440</td><td>17.02</td><td>0    </td><td>0    </td><td>3    </td><td>2    </td></tr>\n",
       "</tbody>\n",
       "</table>\n"
      ],
      "text/latex": [
       "\\begin{tabular}{r|lllllllllll}\n",
       "  & mpg & cyl & disp & hp & drat & wt & qsec & vs & am & gear & carb\\\\\n",
       "\\hline\n",
       "\tDatsun 710 & 22.8  & 4     & 108   &  93   & 3.85  & 2.320 & 18.61 & 1     & 1     & 4     & 1    \\\\\n",
       "\tHornet 4 Drive & 21.4  & 6     & 258   & 110   & 3.08  & 3.215 & 19.44 & 1     & 0     & 3     & 1    \\\\\n",
       "\tHornet Sportabout & 18.7  & 8     & 360   & 175   & 3.15  & 3.440 & 17.02 & 0     & 0     & 3     & 2    \\\\\n",
       "\\end{tabular}\n"
      ],
      "text/markdown": [
       "\n",
       "| <!--/--> | mpg | cyl | disp | hp | drat | wt | qsec | vs | am | gear | carb | \n",
       "|---|---|---|\n",
       "| Datsun 710 | 22.8  | 4     | 108   |  93   | 3.85  | 2.320 | 18.61 | 1     | 1     | 4     | 1     | \n",
       "| Hornet 4 Drive | 21.4  | 6     | 258   | 110   | 3.08  | 3.215 | 19.44 | 1     | 0     | 3     | 1     | \n",
       "| Hornet Sportabout | 18.7  | 8     | 360   | 175   | 3.15  | 3.440 | 17.02 | 0     | 0     | 3     | 2     | \n",
       "\n",
       "\n"
      ],
      "text/plain": [
       "                  mpg  cyl disp hp  drat wt    qsec  vs am gear carb\n",
       "Datsun 710        22.8 4   108   93 3.85 2.320 18.61 1  1  4    1   \n",
       "Hornet 4 Drive    21.4 6   258  110 3.08 3.215 19.44 1  0  3    1   \n",
       "Hornet Sportabout 18.7 8   360  175 3.15 3.440 17.02 0  0  3    2   "
      ]
     },
     "metadata": {},
     "output_type": "display_data"
    },
    {
     "data": {
      "text/html": [
       "<table>\n",
       "<thead><tr><th></th><th scope=col>disp</th><th scope=col>hp</th><th scope=col>drat</th></tr></thead>\n",
       "<tbody>\n",
       "\t<tr><th scope=row>Mazda RX4</th><td>160.0</td><td>110  </td><td>3.90 </td></tr>\n",
       "\t<tr><th scope=row>Mazda RX4 Wag</th><td>160.0</td><td>110  </td><td>3.90 </td></tr>\n",
       "\t<tr><th scope=row>Datsun 710</th><td>108.0</td><td> 93  </td><td>3.85 </td></tr>\n",
       "\t<tr><th scope=row>Hornet 4 Drive</th><td>258.0</td><td>110  </td><td>3.08 </td></tr>\n",
       "\t<tr><th scope=row>Hornet Sportabout</th><td>360.0</td><td>175  </td><td>3.15 </td></tr>\n",
       "\t<tr><th scope=row>Valiant</th><td>225.0</td><td>105  </td><td>2.76 </td></tr>\n",
       "\t<tr><th scope=row>Duster 360</th><td>360.0</td><td>245  </td><td>3.21 </td></tr>\n",
       "\t<tr><th scope=row>Merc 240D</th><td>146.7</td><td> 62  </td><td>3.69 </td></tr>\n",
       "\t<tr><th scope=row>Merc 230</th><td>140.8</td><td> 95  </td><td>3.92 </td></tr>\n",
       "\t<tr><th scope=row>Merc 280</th><td>167.6</td><td>123  </td><td>3.92 </td></tr>\n",
       "\t<tr><th scope=row>Merc 280C</th><td>167.6</td><td>123  </td><td>3.92 </td></tr>\n",
       "\t<tr><th scope=row>Merc 450SE</th><td>275.8</td><td>180  </td><td>3.07 </td></tr>\n",
       "\t<tr><th scope=row>Merc 450SL</th><td>275.8</td><td>180  </td><td>3.07 </td></tr>\n",
       "\t<tr><th scope=row>Merc 450SLC</th><td>275.8</td><td>180  </td><td>3.07 </td></tr>\n",
       "\t<tr><th scope=row>Cadillac Fleetwood</th><td>472.0</td><td>205  </td><td>2.93 </td></tr>\n",
       "\t<tr><th scope=row>Lincoln Continental</th><td>460.0</td><td>215  </td><td>3.00 </td></tr>\n",
       "\t<tr><th scope=row>Chrysler Imperial</th><td>440.0</td><td>230  </td><td>3.23 </td></tr>\n",
       "\t<tr><th scope=row>Fiat 128</th><td> 78.7</td><td> 66  </td><td>4.08 </td></tr>\n",
       "\t<tr><th scope=row>Honda Civic</th><td> 75.7</td><td> 52  </td><td>4.93 </td></tr>\n",
       "\t<tr><th scope=row>Toyota Corolla</th><td> 71.1</td><td> 65  </td><td>4.22 </td></tr>\n",
       "\t<tr><th scope=row>Toyota Corona</th><td>120.1</td><td> 97  </td><td>3.70 </td></tr>\n",
       "\t<tr><th scope=row>Dodge Challenger</th><td>318.0</td><td>150  </td><td>2.76 </td></tr>\n",
       "\t<tr><th scope=row>AMC Javelin</th><td>304.0</td><td>150  </td><td>3.15 </td></tr>\n",
       "\t<tr><th scope=row>Camaro Z28</th><td>350.0</td><td>245  </td><td>3.73 </td></tr>\n",
       "\t<tr><th scope=row>Pontiac Firebird</th><td>400.0</td><td>175  </td><td>3.08 </td></tr>\n",
       "\t<tr><th scope=row>Fiat X1-9</th><td> 79.0</td><td> 66  </td><td>4.08 </td></tr>\n",
       "\t<tr><th scope=row>Porsche 914-2</th><td>120.3</td><td> 91  </td><td>4.43 </td></tr>\n",
       "\t<tr><th scope=row>Lotus Europa</th><td> 95.1</td><td>113  </td><td>3.77 </td></tr>\n",
       "\t<tr><th scope=row>Ford Pantera L</th><td>351.0</td><td>264  </td><td>4.22 </td></tr>\n",
       "\t<tr><th scope=row>Ferrari Dino</th><td>145.0</td><td>175  </td><td>3.62 </td></tr>\n",
       "\t<tr><th scope=row>Maserati Bora</th><td>301.0</td><td>335  </td><td>3.54 </td></tr>\n",
       "\t<tr><th scope=row>Volvo 142E</th><td>121.0</td><td>109  </td><td>4.11 </td></tr>\n",
       "</tbody>\n",
       "</table>\n"
      ],
      "text/latex": [
       "\\begin{tabular}{r|lll}\n",
       "  & disp & hp & drat\\\\\n",
       "\\hline\n",
       "\tMazda RX4 & 160.0 & 110   & 3.90 \\\\\n",
       "\tMazda RX4 Wag & 160.0 & 110   & 3.90 \\\\\n",
       "\tDatsun 710 & 108.0 &  93   & 3.85 \\\\\n",
       "\tHornet 4 Drive & 258.0 & 110   & 3.08 \\\\\n",
       "\tHornet Sportabout & 360.0 & 175   & 3.15 \\\\\n",
       "\tValiant & 225.0 & 105   & 2.76 \\\\\n",
       "\tDuster 360 & 360.0 & 245   & 3.21 \\\\\n",
       "\tMerc 240D & 146.7 &  62   & 3.69 \\\\\n",
       "\tMerc 230 & 140.8 &  95   & 3.92 \\\\\n",
       "\tMerc 280 & 167.6 & 123   & 3.92 \\\\\n",
       "\tMerc 280C & 167.6 & 123   & 3.92 \\\\\n",
       "\tMerc 450SE & 275.8 & 180   & 3.07 \\\\\n",
       "\tMerc 450SL & 275.8 & 180   & 3.07 \\\\\n",
       "\tMerc 450SLC & 275.8 & 180   & 3.07 \\\\\n",
       "\tCadillac Fleetwood & 472.0 & 205   & 2.93 \\\\\n",
       "\tLincoln Continental & 460.0 & 215   & 3.00 \\\\\n",
       "\tChrysler Imperial & 440.0 & 230   & 3.23 \\\\\n",
       "\tFiat 128 &  78.7 &  66   & 4.08 \\\\\n",
       "\tHonda Civic &  75.7 &  52   & 4.93 \\\\\n",
       "\tToyota Corolla &  71.1 &  65   & 4.22 \\\\\n",
       "\tToyota Corona & 120.1 &  97   & 3.70 \\\\\n",
       "\tDodge Challenger & 318.0 & 150   & 2.76 \\\\\n",
       "\tAMC Javelin & 304.0 & 150   & 3.15 \\\\\n",
       "\tCamaro Z28 & 350.0 & 245   & 3.73 \\\\\n",
       "\tPontiac Firebird & 400.0 & 175   & 3.08 \\\\\n",
       "\tFiat X1-9 &  79.0 &  66   & 4.08 \\\\\n",
       "\tPorsche 914-2 & 120.3 &  91   & 4.43 \\\\\n",
       "\tLotus Europa &  95.1 & 113   & 3.77 \\\\\n",
       "\tFord Pantera L & 351.0 & 264   & 4.22 \\\\\n",
       "\tFerrari Dino & 145.0 & 175   & 3.62 \\\\\n",
       "\tMaserati Bora & 301.0 & 335   & 3.54 \\\\\n",
       "\tVolvo 142E & 121.0 & 109   & 4.11 \\\\\n",
       "\\end{tabular}\n"
      ],
      "text/markdown": [
       "\n",
       "| <!--/--> | disp | hp | drat | \n",
       "|---|---|---|---|---|---|---|---|---|---|---|---|---|---|---|---|---|---|---|---|---|---|---|---|---|---|---|---|---|---|---|---|\n",
       "| Mazda RX4 | 160.0 | 110   | 3.90  | \n",
       "| Mazda RX4 Wag | 160.0 | 110   | 3.90  | \n",
       "| Datsun 710 | 108.0 |  93   | 3.85  | \n",
       "| Hornet 4 Drive | 258.0 | 110   | 3.08  | \n",
       "| Hornet Sportabout | 360.0 | 175   | 3.15  | \n",
       "| Valiant | 225.0 | 105   | 2.76  | \n",
       "| Duster 360 | 360.0 | 245   | 3.21  | \n",
       "| Merc 240D | 146.7 |  62   | 3.69  | \n",
       "| Merc 230 | 140.8 |  95   | 3.92  | \n",
       "| Merc 280 | 167.6 | 123   | 3.92  | \n",
       "| Merc 280C | 167.6 | 123   | 3.92  | \n",
       "| Merc 450SE | 275.8 | 180   | 3.07  | \n",
       "| Merc 450SL | 275.8 | 180   | 3.07  | \n",
       "| Merc 450SLC | 275.8 | 180   | 3.07  | \n",
       "| Cadillac Fleetwood | 472.0 | 205   | 2.93  | \n",
       "| Lincoln Continental | 460.0 | 215   | 3.00  | \n",
       "| Chrysler Imperial | 440.0 | 230   | 3.23  | \n",
       "| Fiat 128 |  78.7 |  66   | 4.08  | \n",
       "| Honda Civic |  75.7 |  52   | 4.93  | \n",
       "| Toyota Corolla |  71.1 |  65   | 4.22  | \n",
       "| Toyota Corona | 120.1 |  97   | 3.70  | \n",
       "| Dodge Challenger | 318.0 | 150   | 2.76  | \n",
       "| AMC Javelin | 304.0 | 150   | 3.15  | \n",
       "| Camaro Z28 | 350.0 | 245   | 3.73  | \n",
       "| Pontiac Firebird | 400.0 | 175   | 3.08  | \n",
       "| Fiat X1-9 |  79.0 |  66   | 4.08  | \n",
       "| Porsche 914-2 | 120.3 |  91   | 4.43  | \n",
       "| Lotus Europa |  95.1 | 113   | 3.77  | \n",
       "| Ford Pantera L | 351.0 | 264   | 4.22  | \n",
       "| Ferrari Dino | 145.0 | 175   | 3.62  | \n",
       "| Maserati Bora | 301.0 | 335   | 3.54  | \n",
       "| Volvo 142E | 121.0 | 109   | 4.11  | \n",
       "\n",
       "\n"
      ],
      "text/plain": [
       "                    disp  hp  drat\n",
       "Mazda RX4           160.0 110 3.90\n",
       "Mazda RX4 Wag       160.0 110 3.90\n",
       "Datsun 710          108.0  93 3.85\n",
       "Hornet 4 Drive      258.0 110 3.08\n",
       "Hornet Sportabout   360.0 175 3.15\n",
       "Valiant             225.0 105 2.76\n",
       "Duster 360          360.0 245 3.21\n",
       "Merc 240D           146.7  62 3.69\n",
       "Merc 230            140.8  95 3.92\n",
       "Merc 280            167.6 123 3.92\n",
       "Merc 280C           167.6 123 3.92\n",
       "Merc 450SE          275.8 180 3.07\n",
       "Merc 450SL          275.8 180 3.07\n",
       "Merc 450SLC         275.8 180 3.07\n",
       "Cadillac Fleetwood  472.0 205 2.93\n",
       "Lincoln Continental 460.0 215 3.00\n",
       "Chrysler Imperial   440.0 230 3.23\n",
       "Fiat 128             78.7  66 4.08\n",
       "Honda Civic          75.7  52 4.93\n",
       "Toyota Corolla       71.1  65 4.22\n",
       "Toyota Corona       120.1  97 3.70\n",
       "Dodge Challenger    318.0 150 2.76\n",
       "AMC Javelin         304.0 150 3.15\n",
       "Camaro Z28          350.0 245 3.73\n",
       "Pontiac Firebird    400.0 175 3.08\n",
       "Fiat X1-9            79.0  66 4.08\n",
       "Porsche 914-2       120.3  91 4.43\n",
       "Lotus Europa         95.1 113 3.77\n",
       "Ford Pantera L      351.0 264 4.22\n",
       "Ferrari Dino        145.0 175 3.62\n",
       "Maserati Bora       301.0 335 3.54\n",
       "Volvo 142E          121.0 109 4.11"
      ]
     },
     "metadata": {},
     "output_type": "display_data"
    },
    {
     "data": {
      "text/html": [
       "<table>\n",
       "<thead><tr><th scope=col>V1</th><th scope=col>V2</th><th scope=col>V3</th><th scope=col>V4</th></tr></thead>\n",
       "<tbody>\n",
       "\t<tr><td>1      </td><td>C      </td><td>-0.3795</td><td>3      </td></tr>\n",
       "\t<tr><td>2      </td><td>A      </td><td>-0.7460</td><td>4      </td></tr>\n",
       "\t<tr><td>1      </td><td>B      </td><td> 0.3408</td><td>5      </td></tr>\n",
       "</tbody>\n",
       "</table>\n"
      ],
      "text/latex": [
       "\\begin{tabular}{r|llll}\n",
       " V1 & V2 & V3 & V4\\\\\n",
       "\\hline\n",
       "\t 1       & C       & -0.3795 & 3      \\\\\n",
       "\t 2       & A       & -0.7460 & 4      \\\\\n",
       "\t 1       & B       &  0.3408 & 5      \\\\\n",
       "\\end{tabular}\n"
      ],
      "text/markdown": [
       "\n",
       "V1 | V2 | V3 | V4 | \n",
       "|---|---|---|\n",
       "| 1       | C       | -0.3795 | 3       | \n",
       "| 2       | A       | -0.7460 | 4       | \n",
       "| 1       | B       |  0.3408 | 5       | \n",
       "\n",
       "\n"
      ],
      "text/plain": [
       "  V1 V2 V3      V4\n",
       "1 1  C  -0.3795 3 \n",
       "2 2  A  -0.7460 4 \n",
       "3 1  B   0.3408 5 "
      ]
     },
     "metadata": {},
     "output_type": "display_data"
    },
    {
     "data": {
      "text/html": [
       "<table>\n",
       "<thead><tr><th scope=col>V3</th><th scope=col>V4</th></tr></thead>\n",
       "<tbody>\n",
       "\t<tr><td> 0.3408</td><td> 1     </td></tr>\n",
       "\t<tr><td>-0.7033</td><td> 2     </td></tr>\n",
       "\t<tr><td>-0.3795</td><td> 3     </td></tr>\n",
       "\t<tr><td>-0.7460</td><td> 4     </td></tr>\n",
       "\t<tr><td> 0.3408</td><td> 5     </td></tr>\n",
       "\t<tr><td>-0.7033</td><td> 6     </td></tr>\n",
       "\t<tr><td>-0.3795</td><td> 7     </td></tr>\n",
       "\t<tr><td>-0.7460</td><td> 8     </td></tr>\n",
       "\t<tr><td> 0.3408</td><td> 9     </td></tr>\n",
       "\t<tr><td>-0.7033</td><td>10     </td></tr>\n",
       "\t<tr><td>-0.3795</td><td>11     </td></tr>\n",
       "\t<tr><td>-0.7460</td><td>12     </td></tr>\n",
       "</tbody>\n",
       "</table>\n"
      ],
      "text/latex": [
       "\\begin{tabular}{r|ll}\n",
       " V3 & V4\\\\\n",
       "\\hline\n",
       "\t  0.3408 &  1     \\\\\n",
       "\t -0.7033 &  2     \\\\\n",
       "\t -0.3795 &  3     \\\\\n",
       "\t -0.7460 &  4     \\\\\n",
       "\t  0.3408 &  5     \\\\\n",
       "\t -0.7033 &  6     \\\\\n",
       "\t -0.3795 &  7     \\\\\n",
       "\t -0.7460 &  8     \\\\\n",
       "\t  0.3408 &  9     \\\\\n",
       "\t -0.7033 & 10     \\\\\n",
       "\t -0.3795 & 11     \\\\\n",
       "\t -0.7460 & 12     \\\\\n",
       "\\end{tabular}\n"
      ],
      "text/markdown": [
       "\n",
       "V3 | V4 | \n",
       "|---|---|---|---|---|---|---|---|---|---|---|---|\n",
       "|  0.3408 |  1      | \n",
       "| -0.7033 |  2      | \n",
       "| -0.3795 |  3      | \n",
       "| -0.7460 |  4      | \n",
       "|  0.3408 |  5      | \n",
       "| -0.7033 |  6      | \n",
       "| -0.3795 |  7      | \n",
       "| -0.7460 |  8      | \n",
       "|  0.3408 |  9      | \n",
       "| -0.7033 | 10      | \n",
       "| -0.3795 | 11      | \n",
       "| -0.7460 | 12      | \n",
       "\n",
       "\n"
      ],
      "text/plain": [
       "   V3      V4\n",
       "1   0.3408  1\n",
       "2  -0.7033  2\n",
       "3  -0.3795  3\n",
       "4  -0.7460  4\n",
       "5   0.3408  5\n",
       "6  -0.7033  6\n",
       "7  -0.3795  7\n",
       "8  -0.7460  8\n",
       "9   0.3408  9\n",
       "10 -0.7033 10\n",
       "11 -0.3795 11\n",
       "12 -0.7460 12"
      ]
     },
     "metadata": {},
     "output_type": "display_data"
    },
    {
     "data": {
      "text/html": [
       "<table>\n",
       "<thead><tr><th scope=col>V1</th><th scope=col>V2</th><th scope=col>V3</th><th scope=col>V4</th></tr></thead>\n",
       "<tbody>\n",
       "\t<tr><td>1      </td><td>C      </td><td>-0.3795</td><td>3      </td></tr>\n",
       "\t<tr><td>2      </td><td>A      </td><td>-0.7460</td><td>4      </td></tr>\n",
       "</tbody>\n",
       "</table>\n"
      ],
      "text/latex": [
       "\\begin{tabular}{r|llll}\n",
       " V1 & V2 & V3 & V4\\\\\n",
       "\\hline\n",
       "\t 1       & C       & -0.3795 & 3      \\\\\n",
       "\t 2       & A       & -0.7460 & 4      \\\\\n",
       "\\end{tabular}\n"
      ],
      "text/markdown": [
       "\n",
       "V1 | V2 | V3 | V4 | \n",
       "|---|---|\n",
       "| 1       | C       | -0.3795 | 3       | \n",
       "| 2       | A       | -0.7460 | 4       | \n",
       "\n",
       "\n"
      ],
      "text/plain": [
       "  V1 V2 V3      V4\n",
       "1 1  C  -0.3795 3 \n",
       "2 2  A  -0.7460 4 "
      ]
     },
     "metadata": {},
     "output_type": "display_data"
    },
    {
     "data": {
      "text/html": [
       "<table>\n",
       "<thead><tr><th scope=col>V1</th><th scope=col>V2</th><th scope=col>V3</th><th scope=col>V4</th></tr></thead>\n",
       "<tbody>\n",
       "\t<tr><td>1      </td><td>A      </td><td> 0.3408</td><td> 1     </td></tr>\n",
       "\t<tr><td>2      </td><td>A      </td><td>-0.7460</td><td> 4     </td></tr>\n",
       "\t<tr><td>1      </td><td>A      </td><td>-0.3795</td><td> 7     </td></tr>\n",
       "\t<tr><td>2      </td><td>A      </td><td>-0.7033</td><td>10     </td></tr>\n",
       "</tbody>\n",
       "</table>\n"
      ],
      "text/latex": [
       "\\begin{tabular}{r|llll}\n",
       " V1 & V2 & V3 & V4\\\\\n",
       "\\hline\n",
       "\t 1       & A       &  0.3408 &  1     \\\\\n",
       "\t 2       & A       & -0.7460 &  4     \\\\\n",
       "\t 1       & A       & -0.3795 &  7     \\\\\n",
       "\t 2       & A       & -0.7033 & 10     \\\\\n",
       "\\end{tabular}\n"
      ],
      "text/markdown": [
       "\n",
       "V1 | V2 | V3 | V4 | \n",
       "|---|---|---|---|\n",
       "| 1       | A       |  0.3408 |  1      | \n",
       "| 2       | A       | -0.7460 |  4      | \n",
       "| 1       | A       | -0.3795 |  7      | \n",
       "| 2       | A       | -0.7033 | 10      | \n",
       "\n",
       "\n"
      ],
      "text/plain": [
       "  V1 V2 V3      V4\n",
       "1 1  A   0.3408  1\n",
       "2 2  A  -0.7460  4\n",
       "3 1  A  -0.3795  7\n",
       "4 2  A  -0.7033 10"
      ]
     },
     "metadata": {},
     "output_type": "display_data"
    },
    {
     "data": {
      "text/html": [
       "<table>\n",
       "<thead><tr><th></th><th scope=col>mpg</th><th scope=col>cyl</th><th scope=col>disp</th><th scope=col>hp</th><th scope=col>drat</th><th scope=col>wt</th><th scope=col>qsec</th><th scope=col>vs</th><th scope=col>am</th><th scope=col>gear</th><th scope=col>carb</th></tr></thead>\n",
       "<tbody>\n",
       "\t<tr><th scope=row>Hornet 4 Drive</th><td>21.4 </td><td>6    </td><td>258.0</td><td>110  </td><td>3.08 </td><td>3.215</td><td>19.44</td><td>1    </td><td>0    </td><td>3    </td><td>1    </td></tr>\n",
       "\t<tr><th scope=row>Hornet Sportabout</th><td>18.7 </td><td>8    </td><td>360.0</td><td>175  </td><td>3.15 </td><td>3.440</td><td>17.02</td><td>0    </td><td>0    </td><td>3    </td><td>2    </td></tr>\n",
       "\t<tr><th scope=row>Valiant</th><td>18.1 </td><td>6    </td><td>225.0</td><td>105  </td><td>2.76 </td><td>3.460</td><td>20.22</td><td>1    </td><td>0    </td><td>3    </td><td>1    </td></tr>\n",
       "\t<tr><th scope=row>Duster 360</th><td>14.3 </td><td>8    </td><td>360.0</td><td>245  </td><td>3.21 </td><td>3.570</td><td>15.84</td><td>0    </td><td>0    </td><td>3    </td><td>4    </td></tr>\n",
       "\t<tr><th scope=row>Merc 450SE</th><td>16.4 </td><td>8    </td><td>275.8</td><td>180  </td><td>3.07 </td><td>4.070</td><td>17.40</td><td>0    </td><td>0    </td><td>3    </td><td>3    </td></tr>\n",
       "\t<tr><th scope=row>Merc 450SL</th><td>17.3 </td><td>8    </td><td>275.8</td><td>180  </td><td>3.07 </td><td>3.730</td><td>17.60</td><td>0    </td><td>0    </td><td>3    </td><td>3    </td></tr>\n",
       "\t<tr><th scope=row>Merc 450SLC</th><td>15.2 </td><td>8    </td><td>275.8</td><td>180  </td><td>3.07 </td><td>3.780</td><td>18.00</td><td>0    </td><td>0    </td><td>3    </td><td>3    </td></tr>\n",
       "\t<tr><th scope=row>Cadillac Fleetwood</th><td>10.4 </td><td>8    </td><td>472.0</td><td>205  </td><td>2.93 </td><td>5.250</td><td>17.98</td><td>0    </td><td>0    </td><td>3    </td><td>4    </td></tr>\n",
       "\t<tr><th scope=row>Lincoln Continental</th><td>10.4 </td><td>8    </td><td>460.0</td><td>215  </td><td>3.00 </td><td>5.424</td><td>17.82</td><td>0    </td><td>0    </td><td>3    </td><td>4    </td></tr>\n",
       "\t<tr><th scope=row>Chrysler Imperial</th><td>14.7 </td><td>8    </td><td>440.0</td><td>230  </td><td>3.23 </td><td>5.345</td><td>17.42</td><td>0    </td><td>0    </td><td>3    </td><td>4    </td></tr>\n",
       "\t<tr><th scope=row>Toyota Corona</th><td>21.5 </td><td>4    </td><td>120.1</td><td> 97  </td><td>3.70 </td><td>2.465</td><td>20.01</td><td>1    </td><td>0    </td><td>3    </td><td>1    </td></tr>\n",
       "\t<tr><th scope=row>Dodge Challenger</th><td>15.5 </td><td>8    </td><td>318.0</td><td>150  </td><td>2.76 </td><td>3.520</td><td>16.87</td><td>0    </td><td>0    </td><td>3    </td><td>2    </td></tr>\n",
       "\t<tr><th scope=row>AMC Javelin</th><td>15.2 </td><td>8    </td><td>304.0</td><td>150  </td><td>3.15 </td><td>3.435</td><td>17.30</td><td>0    </td><td>0    </td><td>3    </td><td>2    </td></tr>\n",
       "\t<tr><th scope=row>Camaro Z28</th><td>13.3 </td><td>8    </td><td>350.0</td><td>245  </td><td>3.73 </td><td>3.840</td><td>15.41</td><td>0    </td><td>0    </td><td>3    </td><td>4    </td></tr>\n",
       "\t<tr><th scope=row>Pontiac Firebird</th><td>19.2 </td><td>8    </td><td>400.0</td><td>175  </td><td>3.08 </td><td>3.845</td><td>17.05</td><td>0    </td><td>0    </td><td>3    </td><td>2    </td></tr>\n",
       "</tbody>\n",
       "</table>\n"
      ],
      "text/latex": [
       "\\begin{tabular}{r|lllllllllll}\n",
       "  & mpg & cyl & disp & hp & drat & wt & qsec & vs & am & gear & carb\\\\\n",
       "\\hline\n",
       "\tHornet 4 Drive & 21.4  & 6     & 258.0 & 110   & 3.08  & 3.215 & 19.44 & 1     & 0     & 3     & 1    \\\\\n",
       "\tHornet Sportabout & 18.7  & 8     & 360.0 & 175   & 3.15  & 3.440 & 17.02 & 0     & 0     & 3     & 2    \\\\\n",
       "\tValiant & 18.1  & 6     & 225.0 & 105   & 2.76  & 3.460 & 20.22 & 1     & 0     & 3     & 1    \\\\\n",
       "\tDuster 360 & 14.3  & 8     & 360.0 & 245   & 3.21  & 3.570 & 15.84 & 0     & 0     & 3     & 4    \\\\\n",
       "\tMerc 450SE & 16.4  & 8     & 275.8 & 180   & 3.07  & 4.070 & 17.40 & 0     & 0     & 3     & 3    \\\\\n",
       "\tMerc 450SL & 17.3  & 8     & 275.8 & 180   & 3.07  & 3.730 & 17.60 & 0     & 0     & 3     & 3    \\\\\n",
       "\tMerc 450SLC & 15.2  & 8     & 275.8 & 180   & 3.07  & 3.780 & 18.00 & 0     & 0     & 3     & 3    \\\\\n",
       "\tCadillac Fleetwood & 10.4  & 8     & 472.0 & 205   & 2.93  & 5.250 & 17.98 & 0     & 0     & 3     & 4    \\\\\n",
       "\tLincoln Continental & 10.4  & 8     & 460.0 & 215   & 3.00  & 5.424 & 17.82 & 0     & 0     & 3     & 4    \\\\\n",
       "\tChrysler Imperial & 14.7  & 8     & 440.0 & 230   & 3.23  & 5.345 & 17.42 & 0     & 0     & 3     & 4    \\\\\n",
       "\tToyota Corona & 21.5  & 4     & 120.1 &  97   & 3.70  & 2.465 & 20.01 & 1     & 0     & 3     & 1    \\\\\n",
       "\tDodge Challenger & 15.5  & 8     & 318.0 & 150   & 2.76  & 3.520 & 16.87 & 0     & 0     & 3     & 2    \\\\\n",
       "\tAMC Javelin & 15.2  & 8     & 304.0 & 150   & 3.15  & 3.435 & 17.30 & 0     & 0     & 3     & 2    \\\\\n",
       "\tCamaro Z28 & 13.3  & 8     & 350.0 & 245   & 3.73  & 3.840 & 15.41 & 0     & 0     & 3     & 4    \\\\\n",
       "\tPontiac Firebird & 19.2  & 8     & 400.0 & 175   & 3.08  & 3.845 & 17.05 & 0     & 0     & 3     & 2    \\\\\n",
       "\\end{tabular}\n"
      ],
      "text/markdown": [
       "\n",
       "| <!--/--> | mpg | cyl | disp | hp | drat | wt | qsec | vs | am | gear | carb | \n",
       "|---|---|---|---|---|---|---|---|---|---|---|---|---|---|---|\n",
       "| Hornet 4 Drive | 21.4  | 6     | 258.0 | 110   | 3.08  | 3.215 | 19.44 | 1     | 0     | 3     | 1     | \n",
       "| Hornet Sportabout | 18.7  | 8     | 360.0 | 175   | 3.15  | 3.440 | 17.02 | 0     | 0     | 3     | 2     | \n",
       "| Valiant | 18.1  | 6     | 225.0 | 105   | 2.76  | 3.460 | 20.22 | 1     | 0     | 3     | 1     | \n",
       "| Duster 360 | 14.3  | 8     | 360.0 | 245   | 3.21  | 3.570 | 15.84 | 0     | 0     | 3     | 4     | \n",
       "| Merc 450SE | 16.4  | 8     | 275.8 | 180   | 3.07  | 4.070 | 17.40 | 0     | 0     | 3     | 3     | \n",
       "| Merc 450SL | 17.3  | 8     | 275.8 | 180   | 3.07  | 3.730 | 17.60 | 0     | 0     | 3     | 3     | \n",
       "| Merc 450SLC | 15.2  | 8     | 275.8 | 180   | 3.07  | 3.780 | 18.00 | 0     | 0     | 3     | 3     | \n",
       "| Cadillac Fleetwood | 10.4  | 8     | 472.0 | 205   | 2.93  | 5.250 | 17.98 | 0     | 0     | 3     | 4     | \n",
       "| Lincoln Continental | 10.4  | 8     | 460.0 | 215   | 3.00  | 5.424 | 17.82 | 0     | 0     | 3     | 4     | \n",
       "| Chrysler Imperial | 14.7  | 8     | 440.0 | 230   | 3.23  | 5.345 | 17.42 | 0     | 0     | 3     | 4     | \n",
       "| Toyota Corona | 21.5  | 4     | 120.1 |  97   | 3.70  | 2.465 | 20.01 | 1     | 0     | 3     | 1     | \n",
       "| Dodge Challenger | 15.5  | 8     | 318.0 | 150   | 2.76  | 3.520 | 16.87 | 0     | 0     | 3     | 2     | \n",
       "| AMC Javelin | 15.2  | 8     | 304.0 | 150   | 3.15  | 3.435 | 17.30 | 0     | 0     | 3     | 2     | \n",
       "| Camaro Z28 | 13.3  | 8     | 350.0 | 245   | 3.73  | 3.840 | 15.41 | 0     | 0     | 3     | 4     | \n",
       "| Pontiac Firebird | 19.2  | 8     | 400.0 | 175   | 3.08  | 3.845 | 17.05 | 0     | 0     | 3     | 2     | \n",
       "\n",
       "\n"
      ],
      "text/plain": [
       "                    mpg  cyl disp  hp  drat wt    qsec  vs am gear carb\n",
       "Hornet 4 Drive      21.4 6   258.0 110 3.08 3.215 19.44 1  0  3    1   \n",
       "Hornet Sportabout   18.7 8   360.0 175 3.15 3.440 17.02 0  0  3    2   \n",
       "Valiant             18.1 6   225.0 105 2.76 3.460 20.22 1  0  3    1   \n",
       "Duster 360          14.3 8   360.0 245 3.21 3.570 15.84 0  0  3    4   \n",
       "Merc 450SE          16.4 8   275.8 180 3.07 4.070 17.40 0  0  3    3   \n",
       "Merc 450SL          17.3 8   275.8 180 3.07 3.730 17.60 0  0  3    3   \n",
       "Merc 450SLC         15.2 8   275.8 180 3.07 3.780 18.00 0  0  3    3   \n",
       "Cadillac Fleetwood  10.4 8   472.0 205 2.93 5.250 17.98 0  0  3    4   \n",
       "Lincoln Continental 10.4 8   460.0 215 3.00 5.424 17.82 0  0  3    4   \n",
       "Chrysler Imperial   14.7 8   440.0 230 3.23 5.345 17.42 0  0  3    4   \n",
       "Toyota Corona       21.5 4   120.1  97 3.70 2.465 20.01 1  0  3    1   \n",
       "Dodge Challenger    15.5 8   318.0 150 2.76 3.520 16.87 0  0  3    2   \n",
       "AMC Javelin         15.2 8   304.0 150 3.15 3.435 17.30 0  0  3    2   \n",
       "Camaro Z28          13.3 8   350.0 245 3.73 3.840 15.41 0  0  3    4   \n",
       "Pontiac Firebird    19.2 8   400.0 175 3.08 3.845 17.05 0  0  3    2   "
      ]
     },
     "metadata": {},
     "output_type": "display_data"
    },
    {
     "data": {
      "text/html": [
       "<table>\n",
       "<thead><tr><th scope=col>V1</th><th scope=col>V2</th><th scope=col>V3</th><th scope=col>V4</th></tr></thead>\n",
       "<tbody>\n",
       "\t<tr><td>1      </td><td>A      </td><td> 0.3408</td><td> 1     </td></tr>\n",
       "\t<tr><td>1      </td><td>C      </td><td>-0.3795</td><td> 3     </td></tr>\n",
       "\t<tr><td>2      </td><td>A      </td><td>-0.7460</td><td> 4     </td></tr>\n",
       "\t<tr><td>2      </td><td>C      </td><td>-0.7033</td><td> 6     </td></tr>\n",
       "\t<tr><td>1      </td><td>A      </td><td>-0.3795</td><td> 7     </td></tr>\n",
       "\t<tr><td>1      </td><td>C      </td><td> 0.3408</td><td> 9     </td></tr>\n",
       "\t<tr><td>2      </td><td>A      </td><td>-0.7033</td><td>10     </td></tr>\n",
       "\t<tr><td>2      </td><td>C      </td><td>-0.7460</td><td>12     </td></tr>\n",
       "</tbody>\n",
       "</table>\n"
      ],
      "text/latex": [
       "\\begin{tabular}{r|llll}\n",
       " V1 & V2 & V3 & V4\\\\\n",
       "\\hline\n",
       "\t 1       & A       &  0.3408 &  1     \\\\\n",
       "\t 1       & C       & -0.3795 &  3     \\\\\n",
       "\t 2       & A       & -0.7460 &  4     \\\\\n",
       "\t 2       & C       & -0.7033 &  6     \\\\\n",
       "\t 1       & A       & -0.3795 &  7     \\\\\n",
       "\t 1       & C       &  0.3408 &  9     \\\\\n",
       "\t 2       & A       & -0.7033 & 10     \\\\\n",
       "\t 2       & C       & -0.7460 & 12     \\\\\n",
       "\\end{tabular}\n"
      ],
      "text/markdown": [
       "\n",
       "V1 | V2 | V3 | V4 | \n",
       "|---|---|---|---|---|---|---|---|\n",
       "| 1       | A       |  0.3408 |  1      | \n",
       "| 1       | C       | -0.3795 |  3      | \n",
       "| 2       | A       | -0.7460 |  4      | \n",
       "| 2       | C       | -0.7033 |  6      | \n",
       "| 1       | A       | -0.3795 |  7      | \n",
       "| 1       | C       |  0.3408 |  9      | \n",
       "| 2       | A       | -0.7033 | 10      | \n",
       "| 2       | C       | -0.7460 | 12      | \n",
       "\n",
       "\n"
      ],
      "text/plain": [
       "  V1 V2 V3      V4\n",
       "1 1  A   0.3408  1\n",
       "2 1  C  -0.3795  3\n",
       "3 2  A  -0.7460  4\n",
       "4 2  C  -0.7033  6\n",
       "5 1  A  -0.3795  7\n",
       "6 1  C   0.3408  9\n",
       "7 2  A  -0.7033 10\n",
       "8 2  C  -0.7460 12"
      ]
     },
     "metadata": {},
     "output_type": "display_data"
    },
    {
     "data": {
      "text/html": [
       "<table>\n",
       "<thead><tr><th></th><th scope=col>mpg</th><th scope=col>cyl</th><th scope=col>disp</th><th scope=col>hp</th><th scope=col>drat</th><th scope=col>wt</th><th scope=col>qsec</th><th scope=col>vs</th><th scope=col>am</th><th scope=col>gear</th><th scope=col>carb</th></tr></thead>\n",
       "<tbody>\n",
       "\t<tr><th scope=row>Mazda RX4</th><td>21.0 </td><td>6    </td><td>160.0</td><td>110  </td><td>3.90 </td><td>2.620</td><td>16.46</td><td>0    </td><td>1    </td><td>4    </td><td>4    </td></tr>\n",
       "\t<tr><th scope=row>Mazda RX4 Wag</th><td>21.0 </td><td>6    </td><td>160.0</td><td>110  </td><td>3.90 </td><td>2.875</td><td>17.02</td><td>0    </td><td>1    </td><td>4    </td><td>4    </td></tr>\n",
       "\t<tr><th scope=row>Datsun 710</th><td>22.8 </td><td>4    </td><td>108.0</td><td> 93  </td><td>3.85 </td><td>2.320</td><td>18.61</td><td>1    </td><td>1    </td><td>4    </td><td>1    </td></tr>\n",
       "\t<tr><th scope=row>Merc 240D</th><td>24.4 </td><td>4    </td><td>146.7</td><td> 62  </td><td>3.69 </td><td>3.190</td><td>20.00</td><td>1    </td><td>0    </td><td>4    </td><td>2    </td></tr>\n",
       "\t<tr><th scope=row>Merc 230</th><td>22.8 </td><td>4    </td><td>140.8</td><td> 95  </td><td>3.92 </td><td>3.150</td><td>22.90</td><td>1    </td><td>0    </td><td>4    </td><td>2    </td></tr>\n",
       "\t<tr><th scope=row>Merc 280</th><td>19.2 </td><td>6    </td><td>167.6</td><td>123  </td><td>3.92 </td><td>3.440</td><td>18.30</td><td>1    </td><td>0    </td><td>4    </td><td>4    </td></tr>\n",
       "\t<tr><th scope=row>Merc 280C</th><td>17.8 </td><td>6    </td><td>167.6</td><td>123  </td><td>3.92 </td><td>3.440</td><td>18.90</td><td>1    </td><td>0    </td><td>4    </td><td>4    </td></tr>\n",
       "\t<tr><th scope=row>Fiat 128</th><td>32.4 </td><td>4    </td><td> 78.7</td><td> 66  </td><td>4.08 </td><td>2.200</td><td>19.47</td><td>1    </td><td>1    </td><td>4    </td><td>1    </td></tr>\n",
       "\t<tr><th scope=row>Honda Civic</th><td>30.4 </td><td>4    </td><td> 75.7</td><td> 52  </td><td>4.93 </td><td>1.615</td><td>18.52</td><td>1    </td><td>1    </td><td>4    </td><td>2    </td></tr>\n",
       "\t<tr><th scope=row>Toyota Corolla</th><td>33.9 </td><td>4    </td><td> 71.1</td><td> 65  </td><td>4.22 </td><td>1.835</td><td>19.90</td><td>1    </td><td>1    </td><td>4    </td><td>1    </td></tr>\n",
       "\t<tr><th scope=row>Fiat X1-9</th><td>27.3 </td><td>4    </td><td> 79.0</td><td> 66  </td><td>4.08 </td><td>1.935</td><td>18.90</td><td>1    </td><td>1    </td><td>4    </td><td>1    </td></tr>\n",
       "\t<tr><th scope=row>Porsche 914-2</th><td>26.0 </td><td>4    </td><td>120.3</td><td> 91  </td><td>4.43 </td><td>2.140</td><td>16.70</td><td>0    </td><td>1    </td><td>5    </td><td>2    </td></tr>\n",
       "\t<tr><th scope=row>Lotus Europa</th><td>30.4 </td><td>4    </td><td> 95.1</td><td>113  </td><td>3.77 </td><td>1.513</td><td>16.90</td><td>1    </td><td>1    </td><td>5    </td><td>2    </td></tr>\n",
       "\t<tr><th scope=row>Ford Pantera L</th><td>15.8 </td><td>8    </td><td>351.0</td><td>264  </td><td>4.22 </td><td>3.170</td><td>14.50</td><td>0    </td><td>1    </td><td>5    </td><td>4    </td></tr>\n",
       "\t<tr><th scope=row>Ferrari Dino</th><td>19.7 </td><td>6    </td><td>145.0</td><td>175  </td><td>3.62 </td><td>2.770</td><td>15.50</td><td>0    </td><td>1    </td><td>5    </td><td>6    </td></tr>\n",
       "\t<tr><th scope=row>Maserati Bora</th><td>15.0 </td><td>8    </td><td>301.0</td><td>335  </td><td>3.54 </td><td>3.570</td><td>14.60</td><td>0    </td><td>1    </td><td>5    </td><td>8    </td></tr>\n",
       "\t<tr><th scope=row>Volvo 142E</th><td>21.4 </td><td>4    </td><td>121.0</td><td>109  </td><td>4.11 </td><td>2.780</td><td>18.60</td><td>1    </td><td>1    </td><td>4    </td><td>2    </td></tr>\n",
       "</tbody>\n",
       "</table>\n"
      ],
      "text/latex": [
       "\\begin{tabular}{r|lllllllllll}\n",
       "  & mpg & cyl & disp & hp & drat & wt & qsec & vs & am & gear & carb\\\\\n",
       "\\hline\n",
       "\tMazda RX4 & 21.0  & 6     & 160.0 & 110   & 3.90  & 2.620 & 16.46 & 0     & 1     & 4     & 4    \\\\\n",
       "\tMazda RX4 Wag & 21.0  & 6     & 160.0 & 110   & 3.90  & 2.875 & 17.02 & 0     & 1     & 4     & 4    \\\\\n",
       "\tDatsun 710 & 22.8  & 4     & 108.0 &  93   & 3.85  & 2.320 & 18.61 & 1     & 1     & 4     & 1    \\\\\n",
       "\tMerc 240D & 24.4  & 4     & 146.7 &  62   & 3.69  & 3.190 & 20.00 & 1     & 0     & 4     & 2    \\\\\n",
       "\tMerc 230 & 22.8  & 4     & 140.8 &  95   & 3.92  & 3.150 & 22.90 & 1     & 0     & 4     & 2    \\\\\n",
       "\tMerc 280 & 19.2  & 6     & 167.6 & 123   & 3.92  & 3.440 & 18.30 & 1     & 0     & 4     & 4    \\\\\n",
       "\tMerc 280C & 17.8  & 6     & 167.6 & 123   & 3.92  & 3.440 & 18.90 & 1     & 0     & 4     & 4    \\\\\n",
       "\tFiat 128 & 32.4  & 4     &  78.7 &  66   & 4.08  & 2.200 & 19.47 & 1     & 1     & 4     & 1    \\\\\n",
       "\tHonda Civic & 30.4  & 4     &  75.7 &  52   & 4.93  & 1.615 & 18.52 & 1     & 1     & 4     & 2    \\\\\n",
       "\tToyota Corolla & 33.9  & 4     &  71.1 &  65   & 4.22  & 1.835 & 19.90 & 1     & 1     & 4     & 1    \\\\\n",
       "\tFiat X1-9 & 27.3  & 4     &  79.0 &  66   & 4.08  & 1.935 & 18.90 & 1     & 1     & 4     & 1    \\\\\n",
       "\tPorsche 914-2 & 26.0  & 4     & 120.3 &  91   & 4.43  & 2.140 & 16.70 & 0     & 1     & 5     & 2    \\\\\n",
       "\tLotus Europa & 30.4  & 4     &  95.1 & 113   & 3.77  & 1.513 & 16.90 & 1     & 1     & 5     & 2    \\\\\n",
       "\tFord Pantera L & 15.8  & 8     & 351.0 & 264   & 4.22  & 3.170 & 14.50 & 0     & 1     & 5     & 4    \\\\\n",
       "\tFerrari Dino & 19.7  & 6     & 145.0 & 175   & 3.62  & 2.770 & 15.50 & 0     & 1     & 5     & 6    \\\\\n",
       "\tMaserati Bora & 15.0  & 8     & 301.0 & 335   & 3.54  & 3.570 & 14.60 & 0     & 1     & 5     & 8    \\\\\n",
       "\tVolvo 142E & 21.4  & 4     & 121.0 & 109   & 4.11  & 2.780 & 18.60 & 1     & 1     & 4     & 2    \\\\\n",
       "\\end{tabular}\n"
      ],
      "text/markdown": [
       "\n",
       "| <!--/--> | mpg | cyl | disp | hp | drat | wt | qsec | vs | am | gear | carb | \n",
       "|---|---|---|---|---|---|---|---|---|---|---|---|---|---|---|---|---|\n",
       "| Mazda RX4 | 21.0  | 6     | 160.0 | 110   | 3.90  | 2.620 | 16.46 | 0     | 1     | 4     | 4     | \n",
       "| Mazda RX4 Wag | 21.0  | 6     | 160.0 | 110   | 3.90  | 2.875 | 17.02 | 0     | 1     | 4     | 4     | \n",
       "| Datsun 710 | 22.8  | 4     | 108.0 |  93   | 3.85  | 2.320 | 18.61 | 1     | 1     | 4     | 1     | \n",
       "| Merc 240D | 24.4  | 4     | 146.7 |  62   | 3.69  | 3.190 | 20.00 | 1     | 0     | 4     | 2     | \n",
       "| Merc 230 | 22.8  | 4     | 140.8 |  95   | 3.92  | 3.150 | 22.90 | 1     | 0     | 4     | 2     | \n",
       "| Merc 280 | 19.2  | 6     | 167.6 | 123   | 3.92  | 3.440 | 18.30 | 1     | 0     | 4     | 4     | \n",
       "| Merc 280C | 17.8  | 6     | 167.6 | 123   | 3.92  | 3.440 | 18.90 | 1     | 0     | 4     | 4     | \n",
       "| Fiat 128 | 32.4  | 4     |  78.7 |  66   | 4.08  | 2.200 | 19.47 | 1     | 1     | 4     | 1     | \n",
       "| Honda Civic | 30.4  | 4     |  75.7 |  52   | 4.93  | 1.615 | 18.52 | 1     | 1     | 4     | 2     | \n",
       "| Toyota Corolla | 33.9  | 4     |  71.1 |  65   | 4.22  | 1.835 | 19.90 | 1     | 1     | 4     | 1     | \n",
       "| Fiat X1-9 | 27.3  | 4     |  79.0 |  66   | 4.08  | 1.935 | 18.90 | 1     | 1     | 4     | 1     | \n",
       "| Porsche 914-2 | 26.0  | 4     | 120.3 |  91   | 4.43  | 2.140 | 16.70 | 0     | 1     | 5     | 2     | \n",
       "| Lotus Europa | 30.4  | 4     |  95.1 | 113   | 3.77  | 1.513 | 16.90 | 1     | 1     | 5     | 2     | \n",
       "| Ford Pantera L | 15.8  | 8     | 351.0 | 264   | 4.22  | 3.170 | 14.50 | 0     | 1     | 5     | 4     | \n",
       "| Ferrari Dino | 19.7  | 6     | 145.0 | 175   | 3.62  | 2.770 | 15.50 | 0     | 1     | 5     | 6     | \n",
       "| Maserati Bora | 15.0  | 8     | 301.0 | 335   | 3.54  | 3.570 | 14.60 | 0     | 1     | 5     | 8     | \n",
       "| Volvo 142E | 21.4  | 4     | 121.0 | 109   | 4.11  | 2.780 | 18.60 | 1     | 1     | 4     | 2     | \n",
       "\n",
       "\n"
      ],
      "text/plain": [
       "               mpg  cyl disp  hp  drat wt    qsec  vs am gear carb\n",
       "Mazda RX4      21.0 6   160.0 110 3.90 2.620 16.46 0  1  4    4   \n",
       "Mazda RX4 Wag  21.0 6   160.0 110 3.90 2.875 17.02 0  1  4    4   \n",
       "Datsun 710     22.8 4   108.0  93 3.85 2.320 18.61 1  1  4    1   \n",
       "Merc 240D      24.4 4   146.7  62 3.69 3.190 20.00 1  0  4    2   \n",
       "Merc 230       22.8 4   140.8  95 3.92 3.150 22.90 1  0  4    2   \n",
       "Merc 280       19.2 6   167.6 123 3.92 3.440 18.30 1  0  4    4   \n",
       "Merc 280C      17.8 6   167.6 123 3.92 3.440 18.90 1  0  4    4   \n",
       "Fiat 128       32.4 4    78.7  66 4.08 2.200 19.47 1  1  4    1   \n",
       "Honda Civic    30.4 4    75.7  52 4.93 1.615 18.52 1  1  4    2   \n",
       "Toyota Corolla 33.9 4    71.1  65 4.22 1.835 19.90 1  1  4    1   \n",
       "Fiat X1-9      27.3 4    79.0  66 4.08 1.935 18.90 1  1  4    1   \n",
       "Porsche 914-2  26.0 4   120.3  91 4.43 2.140 16.70 0  1  5    2   \n",
       "Lotus Europa   30.4 4    95.1 113 3.77 1.513 16.90 1  1  5    2   \n",
       "Ford Pantera L 15.8 8   351.0 264 4.22 3.170 14.50 0  1  5    4   \n",
       "Ferrari Dino   19.7 6   145.0 175 3.62 2.770 15.50 0  1  5    6   \n",
       "Maserati Bora  15.0 8   301.0 335 3.54 3.570 14.60 0  1  5    8   \n",
       "Volvo 142E     21.4 4   121.0 109 4.11 2.780 18.60 1  1  4    2   "
      ]
     },
     "metadata": {},
     "output_type": "display_data"
    },
    {
     "data": {
      "text/html": [
       "<ol class=list-inline>\n",
       "\t<li>'A'</li>\n",
       "\t<li>'B'</li>\n",
       "\t<li>'C'</li>\n",
       "\t<li>'A'</li>\n",
       "\t<li>'B'</li>\n",
       "\t<li>'C'</li>\n",
       "\t<li>'A'</li>\n",
       "\t<li>'B'</li>\n",
       "\t<li>'C'</li>\n",
       "\t<li>'A'</li>\n",
       "\t<li>'B'</li>\n",
       "\t<li>'C'</li>\n",
       "</ol>\n"
      ],
      "text/latex": [
       "\\begin{enumerate*}\n",
       "\\item 'A'\n",
       "\\item 'B'\n",
       "\\item 'C'\n",
       "\\item 'A'\n",
       "\\item 'B'\n",
       "\\item 'C'\n",
       "\\item 'A'\n",
       "\\item 'B'\n",
       "\\item 'C'\n",
       "\\item 'A'\n",
       "\\item 'B'\n",
       "\\item 'C'\n",
       "\\end{enumerate*}\n"
      ],
      "text/markdown": [
       "1. 'A'\n",
       "2. 'B'\n",
       "3. 'C'\n",
       "4. 'A'\n",
       "5. 'B'\n",
       "6. 'C'\n",
       "7. 'A'\n",
       "8. 'B'\n",
       "9. 'C'\n",
       "10. 'A'\n",
       "11. 'B'\n",
       "12. 'C'\n",
       "\n",
       "\n"
      ],
      "text/plain": [
       " [1] \"A\" \"B\" \"C\" \"A\" \"B\" \"C\" \"A\" \"B\" \"C\" \"A\" \"B\" \"C\""
      ]
     },
     "metadata": {},
     "output_type": "display_data"
    },
    {
     "data": {
      "text/html": [
       "<table>\n",
       "<thead><tr><th></th><th scope=col>disp</th></tr></thead>\n",
       "<tbody>\n",
       "\t<tr><th scope=row>Mazda RX4</th><td>160.0</td></tr>\n",
       "\t<tr><th scope=row>Mazda RX4 Wag</th><td>160.0</td></tr>\n",
       "\t<tr><th scope=row>Datsun 710</th><td>108.0</td></tr>\n",
       "\t<tr><th scope=row>Hornet 4 Drive</th><td>258.0</td></tr>\n",
       "\t<tr><th scope=row>Hornet Sportabout</th><td>360.0</td></tr>\n",
       "\t<tr><th scope=row>Valiant</th><td>225.0</td></tr>\n",
       "\t<tr><th scope=row>Duster 360</th><td>360.0</td></tr>\n",
       "\t<tr><th scope=row>Merc 240D</th><td>146.7</td></tr>\n",
       "\t<tr><th scope=row>Merc 230</th><td>140.8</td></tr>\n",
       "\t<tr><th scope=row>Merc 280</th><td>167.6</td></tr>\n",
       "\t<tr><th scope=row>Merc 280C</th><td>167.6</td></tr>\n",
       "\t<tr><th scope=row>Merc 450SE</th><td>275.8</td></tr>\n",
       "\t<tr><th scope=row>Merc 450SL</th><td>275.8</td></tr>\n",
       "\t<tr><th scope=row>Merc 450SLC</th><td>275.8</td></tr>\n",
       "\t<tr><th scope=row>Cadillac Fleetwood</th><td>472.0</td></tr>\n",
       "\t<tr><th scope=row>Lincoln Continental</th><td>460.0</td></tr>\n",
       "\t<tr><th scope=row>Chrysler Imperial</th><td>440.0</td></tr>\n",
       "\t<tr><th scope=row>Fiat 128</th><td> 78.7</td></tr>\n",
       "\t<tr><th scope=row>Honda Civic</th><td> 75.7</td></tr>\n",
       "\t<tr><th scope=row>Toyota Corolla</th><td> 71.1</td></tr>\n",
       "\t<tr><th scope=row>Toyota Corona</th><td>120.1</td></tr>\n",
       "\t<tr><th scope=row>Dodge Challenger</th><td>318.0</td></tr>\n",
       "\t<tr><th scope=row>AMC Javelin</th><td>304.0</td></tr>\n",
       "\t<tr><th scope=row>Camaro Z28</th><td>350.0</td></tr>\n",
       "\t<tr><th scope=row>Pontiac Firebird</th><td>400.0</td></tr>\n",
       "\t<tr><th scope=row>Fiat X1-9</th><td> 79.0</td></tr>\n",
       "\t<tr><th scope=row>Porsche 914-2</th><td>120.3</td></tr>\n",
       "\t<tr><th scope=row>Lotus Europa</th><td> 95.1</td></tr>\n",
       "\t<tr><th scope=row>Ford Pantera L</th><td>351.0</td></tr>\n",
       "\t<tr><th scope=row>Ferrari Dino</th><td>145.0</td></tr>\n",
       "\t<tr><th scope=row>Maserati Bora</th><td>301.0</td></tr>\n",
       "\t<tr><th scope=row>Volvo 142E</th><td>121.0</td></tr>\n",
       "</tbody>\n",
       "</table>\n"
      ],
      "text/latex": [
       "\\begin{tabular}{r|l}\n",
       "  & disp\\\\\n",
       "\\hline\n",
       "\tMazda RX4 & 160.0\\\\\n",
       "\tMazda RX4 Wag & 160.0\\\\\n",
       "\tDatsun 710 & 108.0\\\\\n",
       "\tHornet 4 Drive & 258.0\\\\\n",
       "\tHornet Sportabout & 360.0\\\\\n",
       "\tValiant & 225.0\\\\\n",
       "\tDuster 360 & 360.0\\\\\n",
       "\tMerc 240D & 146.7\\\\\n",
       "\tMerc 230 & 140.8\\\\\n",
       "\tMerc 280 & 167.6\\\\\n",
       "\tMerc 280C & 167.6\\\\\n",
       "\tMerc 450SE & 275.8\\\\\n",
       "\tMerc 450SL & 275.8\\\\\n",
       "\tMerc 450SLC & 275.8\\\\\n",
       "\tCadillac Fleetwood & 472.0\\\\\n",
       "\tLincoln Continental & 460.0\\\\\n",
       "\tChrysler Imperial & 440.0\\\\\n",
       "\tFiat 128 &  78.7\\\\\n",
       "\tHonda Civic &  75.7\\\\\n",
       "\tToyota Corolla &  71.1\\\\\n",
       "\tToyota Corona & 120.1\\\\\n",
       "\tDodge Challenger & 318.0\\\\\n",
       "\tAMC Javelin & 304.0\\\\\n",
       "\tCamaro Z28 & 350.0\\\\\n",
       "\tPontiac Firebird & 400.0\\\\\n",
       "\tFiat X1-9 &  79.0\\\\\n",
       "\tPorsche 914-2 & 120.3\\\\\n",
       "\tLotus Europa &  95.1\\\\\n",
       "\tFord Pantera L & 351.0\\\\\n",
       "\tFerrari Dino & 145.0\\\\\n",
       "\tMaserati Bora & 301.0\\\\\n",
       "\tVolvo 142E & 121.0\\\\\n",
       "\\end{tabular}\n"
      ],
      "text/markdown": [
       "\n",
       "| <!--/--> | disp | \n",
       "|---|---|---|---|---|---|---|---|---|---|---|---|---|---|---|---|---|---|---|---|---|---|---|---|---|---|---|---|---|---|---|---|\n",
       "| Mazda RX4 | 160.0 | \n",
       "| Mazda RX4 Wag | 160.0 | \n",
       "| Datsun 710 | 108.0 | \n",
       "| Hornet 4 Drive | 258.0 | \n",
       "| Hornet Sportabout | 360.0 | \n",
       "| Valiant | 225.0 | \n",
       "| Duster 360 | 360.0 | \n",
       "| Merc 240D | 146.7 | \n",
       "| Merc 230 | 140.8 | \n",
       "| Merc 280 | 167.6 | \n",
       "| Merc 280C | 167.6 | \n",
       "| Merc 450SE | 275.8 | \n",
       "| Merc 450SL | 275.8 | \n",
       "| Merc 450SLC | 275.8 | \n",
       "| Cadillac Fleetwood | 472.0 | \n",
       "| Lincoln Continental | 460.0 | \n",
       "| Chrysler Imperial | 440.0 | \n",
       "| Fiat 128 |  78.7 | \n",
       "| Honda Civic |  75.7 | \n",
       "| Toyota Corolla |  71.1 | \n",
       "| Toyota Corona | 120.1 | \n",
       "| Dodge Challenger | 318.0 | \n",
       "| AMC Javelin | 304.0 | \n",
       "| Camaro Z28 | 350.0 | \n",
       "| Pontiac Firebird | 400.0 | \n",
       "| Fiat X1-9 |  79.0 | \n",
       "| Porsche 914-2 | 120.3 | \n",
       "| Lotus Europa |  95.1 | \n",
       "| Ford Pantera L | 351.0 | \n",
       "| Ferrari Dino | 145.0 | \n",
       "| Maserati Bora | 301.0 | \n",
       "| Volvo 142E | 121.0 | \n",
       "\n",
       "\n"
      ],
      "text/plain": [
       "                    disp \n",
       "Mazda RX4           160.0\n",
       "Mazda RX4 Wag       160.0\n",
       "Datsun 710          108.0\n",
       "Hornet 4 Drive      258.0\n",
       "Hornet Sportabout   360.0\n",
       "Valiant             225.0\n",
       "Duster 360          360.0\n",
       "Merc 240D           146.7\n",
       "Merc 230            140.8\n",
       "Merc 280            167.6\n",
       "Merc 280C           167.6\n",
       "Merc 450SE          275.8\n",
       "Merc 450SL          275.8\n",
       "Merc 450SLC         275.8\n",
       "Cadillac Fleetwood  472.0\n",
       "Lincoln Continental 460.0\n",
       "Chrysler Imperial   440.0\n",
       "Fiat 128             78.7\n",
       "Honda Civic          75.7\n",
       "Toyota Corolla       71.1\n",
       "Toyota Corona       120.1\n",
       "Dodge Challenger    318.0\n",
       "AMC Javelin         304.0\n",
       "Camaro Z28          350.0\n",
       "Pontiac Firebird    400.0\n",
       "Fiat X1-9            79.0\n",
       "Porsche 914-2       120.3\n",
       "Lotus Europa         95.1\n",
       "Ford Pantera L      351.0\n",
       "Ferrari Dino        145.0\n",
       "Maserati Bora       301.0\n",
       "Volvo 142E          121.0"
      ]
     },
     "metadata": {},
     "output_type": "display_data"
    },
    {
     "data": {
      "text/html": [
       "<ol class=list-inline>\n",
       "\t<li>'tbl_df'</li>\n",
       "\t<li>'tbl'</li>\n",
       "\t<li>'data.frame'</li>\n",
       "</ol>\n"
      ],
      "text/latex": [
       "\\begin{enumerate*}\n",
       "\\item 'tbl\\_df'\n",
       "\\item 'tbl'\n",
       "\\item 'data.frame'\n",
       "\\end{enumerate*}\n"
      ],
      "text/markdown": [
       "1. 'tbl_df'\n",
       "2. 'tbl'\n",
       "3. 'data.frame'\n",
       "\n",
       "\n"
      ],
      "text/plain": [
       "[1] \"tbl_df\"     \"tbl\"        \"data.frame\""
      ]
     },
     "metadata": {},
     "output_type": "display_data"
    },
    {
     "data": {
      "text/html": [
       "TRUE"
      ],
      "text/latex": [
       "TRUE"
      ],
      "text/markdown": [
       "TRUE"
      ],
      "text/plain": [
       "[1] TRUE"
      ]
     },
     "metadata": {},
     "output_type": "display_data"
    },
    {
     "data": {
      "text/html": [
       "TRUE"
      ],
      "text/latex": [
       "TRUE"
      ],
      "text/markdown": [
       "TRUE"
      ],
      "text/plain": [
       "[1] TRUE"
      ]
     },
     "metadata": {},
     "output_type": "display_data"
    },
    {
     "data": {
      "text/html": [
       "<table>\n",
       "<thead><tr><th scope=col>V2</th><th scope=col>V3</th></tr></thead>\n",
       "<tbody>\n",
       "\t<tr><td>A      </td><td> 0.3408</td></tr>\n",
       "\t<tr><td>B      </td><td>-0.7033</td></tr>\n",
       "\t<tr><td>C      </td><td>-0.3795</td></tr>\n",
       "\t<tr><td>A      </td><td>-0.7460</td></tr>\n",
       "\t<tr><td>B      </td><td> 0.3408</td></tr>\n",
       "\t<tr><td>C      </td><td>-0.7033</td></tr>\n",
       "\t<tr><td>A      </td><td>-0.3795</td></tr>\n",
       "\t<tr><td>B      </td><td>-0.7460</td></tr>\n",
       "\t<tr><td>C      </td><td> 0.3408</td></tr>\n",
       "\t<tr><td>A      </td><td>-0.7033</td></tr>\n",
       "\t<tr><td>B      </td><td>-0.3795</td></tr>\n",
       "\t<tr><td>C      </td><td>-0.7460</td></tr>\n",
       "</tbody>\n",
       "</table>\n"
      ],
      "text/latex": [
       "\\begin{tabular}{r|ll}\n",
       " V2 & V3\\\\\n",
       "\\hline\n",
       "\t A       &  0.3408\\\\\n",
       "\t B       & -0.7033\\\\\n",
       "\t C       & -0.3795\\\\\n",
       "\t A       & -0.7460\\\\\n",
       "\t B       &  0.3408\\\\\n",
       "\t C       & -0.7033\\\\\n",
       "\t A       & -0.3795\\\\\n",
       "\t B       & -0.7460\\\\\n",
       "\t C       &  0.3408\\\\\n",
       "\t A       & -0.7033\\\\\n",
       "\t B       & -0.3795\\\\\n",
       "\t C       & -0.7460\\\\\n",
       "\\end{tabular}\n"
      ],
      "text/markdown": [
       "\n",
       "V2 | V3 | \n",
       "|---|---|---|---|---|---|---|---|---|---|---|---|\n",
       "| A       |  0.3408 | \n",
       "| B       | -0.7033 | \n",
       "| C       | -0.3795 | \n",
       "| A       | -0.7460 | \n",
       "| B       |  0.3408 | \n",
       "| C       | -0.7033 | \n",
       "| A       | -0.3795 | \n",
       "| B       | -0.7460 | \n",
       "| C       |  0.3408 | \n",
       "| A       | -0.7033 | \n",
       "| B       | -0.3795 | \n",
       "| C       | -0.7460 | \n",
       "\n",
       "\n"
      ],
      "text/plain": [
       "   V2 V3     \n",
       "1  A   0.3408\n",
       "2  B  -0.7033\n",
       "3  C  -0.3795\n",
       "4  A  -0.7460\n",
       "5  B   0.3408\n",
       "6  C  -0.7033\n",
       "7  A  -0.3795\n",
       "8  B  -0.7460\n",
       "9  C   0.3408\n",
       "10 A  -0.7033\n",
       "11 B  -0.3795\n",
       "12 C  -0.7460"
      ]
     },
     "metadata": {},
     "output_type": "display_data"
    },
    {
     "data": {
      "text/html": [
       "18"
      ],
      "text/latex": [
       "18"
      ],
      "text/markdown": [
       "18"
      ],
      "text/plain": [
       "[1] 18"
      ]
     },
     "metadata": {},
     "output_type": "display_data"
    },
    {
     "data": {
      "text/html": [
       "<table>\n",
       "<thead><tr><th scope=col>V1</th><th scope=col>V2</th></tr></thead>\n",
       "<tbody>\n",
       "\t<tr><td>18       </td><td>0.4546055</td></tr>\n",
       "</tbody>\n",
       "</table>\n"
      ],
      "text/latex": [
       "\\begin{tabular}{r|ll}\n",
       " V1 & V2\\\\\n",
       "\\hline\n",
       "\t 18        & 0.4546055\\\\\n",
       "\\end{tabular}\n"
      ],
      "text/markdown": [
       "\n",
       "V1 | V2 | \n",
       "|---|\n",
       "| 18        | 0.4546055 | \n",
       "\n",
       "\n"
      ],
      "text/plain": [
       "  V1 V2       \n",
       "1 18 0.4546055"
      ]
     },
     "metadata": {},
     "output_type": "display_data"
    },
    {
     "data": {
      "text/html": [
       "<table>\n",
       "<thead><tr><th scope=col>Aggregate</th><th scope=col>Sd.V3</th></tr></thead>\n",
       "<tbody>\n",
       "\t<tr><td>18       </td><td>0.4546055</td></tr>\n",
       "</tbody>\n",
       "</table>\n"
      ],
      "text/latex": [
       "\\begin{tabular}{r|ll}\n",
       " Aggregate & Sd.V3\\\\\n",
       "\\hline\n",
       "\t 18        & 0.4546055\\\\\n",
       "\\end{tabular}\n"
      ],
      "text/markdown": [
       "\n",
       "Aggregate | Sd.V3 | \n",
       "|---|\n",
       "| 18        | 0.4546055 | \n",
       "\n",
       "\n"
      ],
      "text/plain": [
       "  Aggregate Sd.V3    \n",
       "1 18        0.4546055"
      ]
     },
     "metadata": {},
     "output_type": "display_data"
    },
    {
     "data": {
      "text/html": [
       "<table>\n",
       "<thead><tr><th scope=col>V1</th><th scope=col>Sd.V3</th></tr></thead>\n",
       "<tbody>\n",
       "\t<tr><td>1        </td><td>0.4546055</td></tr>\n",
       "\t<tr><td>2        </td><td>0.4546055</td></tr>\n",
       "\t<tr><td>1        </td><td>0.4546055</td></tr>\n",
       "\t<tr><td>2        </td><td>0.4546055</td></tr>\n",
       "\t<tr><td>1        </td><td>0.4546055</td></tr>\n",
       "\t<tr><td>2        </td><td>0.4546055</td></tr>\n",
       "\t<tr><td>1        </td><td>0.4546055</td></tr>\n",
       "\t<tr><td>2        </td><td>0.4546055</td></tr>\n",
       "\t<tr><td>1        </td><td>0.4546055</td></tr>\n",
       "\t<tr><td>2        </td><td>0.4546055</td></tr>\n",
       "\t<tr><td>1        </td><td>0.4546055</td></tr>\n",
       "\t<tr><td>2        </td><td>0.4546055</td></tr>\n",
       "</tbody>\n",
       "</table>\n"
      ],
      "text/latex": [
       "\\begin{tabular}{r|ll}\n",
       " V1 & Sd.V3\\\\\n",
       "\\hline\n",
       "\t 1         & 0.4546055\\\\\n",
       "\t 2         & 0.4546055\\\\\n",
       "\t 1         & 0.4546055\\\\\n",
       "\t 2         & 0.4546055\\\\\n",
       "\t 1         & 0.4546055\\\\\n",
       "\t 2         & 0.4546055\\\\\n",
       "\t 1         & 0.4546055\\\\\n",
       "\t 2         & 0.4546055\\\\\n",
       "\t 1         & 0.4546055\\\\\n",
       "\t 2         & 0.4546055\\\\\n",
       "\t 1         & 0.4546055\\\\\n",
       "\t 2         & 0.4546055\\\\\n",
       "\\end{tabular}\n"
      ],
      "text/markdown": [
       "\n",
       "V1 | Sd.V3 | \n",
       "|---|---|---|---|---|---|---|---|---|---|---|---|\n",
       "| 1         | 0.4546055 | \n",
       "| 2         | 0.4546055 | \n",
       "| 1         | 0.4546055 | \n",
       "| 2         | 0.4546055 | \n",
       "| 1         | 0.4546055 | \n",
       "| 2         | 0.4546055 | \n",
       "| 1         | 0.4546055 | \n",
       "| 2         | 0.4546055 | \n",
       "| 1         | 0.4546055 | \n",
       "| 2         | 0.4546055 | \n",
       "| 1         | 0.4546055 | \n",
       "| 2         | 0.4546055 | \n",
       "\n",
       "\n"
      ],
      "text/plain": [
       "   V1 Sd.V3    \n",
       "1  1  0.4546055\n",
       "2  2  0.4546055\n",
       "3  1  0.4546055\n",
       "4  2  0.4546055\n",
       "5  1  0.4546055\n",
       "6  2  0.4546055\n",
       "7  1  0.4546055\n",
       "8  2  0.4546055\n",
       "9  1  0.4546055\n",
       "10 2  0.4546055\n",
       "11 1  0.4546055\n",
       "12 2  0.4546055"
      ]
     },
     "metadata": {},
     "output_type": "display_data"
    },
    {
     "name": "stdout",
     "output_type": "stream",
     "text": [
      " [1] \"A\" \"B\" \"C\" \"A\" \"B\" \"C\" \"A\" \"B\" \"C\" \"A\" \"B\" \"C\"\n"
     ]
    },
    {
     "data": {
      "text/html": [
       "<table>\n",
       "<thead><tr><th scope=col>V1</th></tr></thead>\n",
       "<tbody>\n",
       "\t<tr><td>A</td></tr>\n",
       "\t<tr><td>B</td></tr>\n",
       "\t<tr><td>C</td></tr>\n",
       "\t<tr><td>A</td></tr>\n",
       "\t<tr><td>B</td></tr>\n",
       "\t<tr><td>C</td></tr>\n",
       "\t<tr><td>A</td></tr>\n",
       "\t<tr><td>B</td></tr>\n",
       "\t<tr><td>C</td></tr>\n",
       "\t<tr><td>A</td></tr>\n",
       "\t<tr><td>B</td></tr>\n",
       "\t<tr><td>C</td></tr>\n",
       "</tbody>\n",
       "</table>\n"
      ],
      "text/latex": [
       "\\begin{tabular}{r|l}\n",
       " V1\\\\\n",
       "\\hline\n",
       "\t A\\\\\n",
       "\t B\\\\\n",
       "\t C\\\\\n",
       "\t A\\\\\n",
       "\t B\\\\\n",
       "\t C\\\\\n",
       "\t A\\\\\n",
       "\t B\\\\\n",
       "\t C\\\\\n",
       "\t A\\\\\n",
       "\t B\\\\\n",
       "\t C\\\\\n",
       "\\end{tabular}\n"
      ],
      "text/markdown": [
       "\n",
       "V1 | \n",
       "|---|---|---|---|---|---|---|---|---|---|---|---|\n",
       "| A | \n",
       "| B | \n",
       "| C | \n",
       "| A | \n",
       "| B | \n",
       "| C | \n",
       "| A | \n",
       "| B | \n",
       "| C | \n",
       "| A | \n",
       "| B | \n",
       "| C | \n",
       "\n",
       "\n"
      ],
      "text/plain": [
       "   V1\n",
       "1  A \n",
       "2  B \n",
       "3  C \n",
       "4  A \n",
       "5  B \n",
       "6  C \n",
       "7  A \n",
       "8  B \n",
       "9  C \n",
       "10 A \n",
       "11 B \n",
       "12 C "
      ]
     },
     "metadata": {},
     "output_type": "display_data"
    },
    {
     "name": "stdout",
     "output_type": "stream",
     "text": [
      " [1] \"A\" \"B\" \"C\" \"A\" \"B\" \"C\" \"A\" \"B\" \"C\" \"A\" \"B\" \"C\"\n"
     ]
    },
    {
     "data": {
      "image/png": "[encoded data removed]",
      "text/plain": [
       "plot without title"
      ]
     },
     "metadata": {},
     "output_type": "display_data"
    },
    {
     "data": {
      "text/html": [
       "<ol class=list-inline>\n",
       "\t<li>'A'</li>\n",
       "\t<li>'B'</li>\n",
       "\t<li>'C'</li>\n",
       "\t<li>'A'</li>\n",
       "\t<li>'B'</li>\n",
       "\t<li>'C'</li>\n",
       "\t<li>'A'</li>\n",
       "\t<li>'B'</li>\n",
       "\t<li>'C'</li>\n",
       "\t<li>'A'</li>\n",
       "\t<li>'B'</li>\n",
       "\t<li>'C'</li>\n",
       "</ol>\n"
      ],
      "text/latex": [
       "\\begin{enumerate*}\n",
       "\\item 'A'\n",
       "\\item 'B'\n",
       "\\item 'C'\n",
       "\\item 'A'\n",
       "\\item 'B'\n",
       "\\item 'C'\n",
       "\\item 'A'\n",
       "\\item 'B'\n",
       "\\item 'C'\n",
       "\\item 'A'\n",
       "\\item 'B'\n",
       "\\item 'C'\n",
       "\\end{enumerate*}\n"
      ],
      "text/markdown": [
       "1. 'A'\n",
       "2. 'B'\n",
       "3. 'C'\n",
       "4. 'A'\n",
       "5. 'B'\n",
       "6. 'C'\n",
       "7. 'A'\n",
       "8. 'B'\n",
       "9. 'C'\n",
       "10. 'A'\n",
       "11. 'B'\n",
       "12. 'C'\n",
       "\n",
       "\n"
      ],
      "text/plain": [
       " [1] \"A\" \"B\" \"C\" \"A\" \"B\" \"C\" \"A\" \"B\" \"C\" \"A\" \"B\" \"C\""
      ]
     },
     "metadata": {},
     "output_type": "display_data"
    },
    {
     "data": {
      "text/html": [
       "<table>\n",
       "<thead><tr><th scope=col>V1</th><th scope=col>V4.Sum</th></tr></thead>\n",
       "<tbody>\n",
       "\t<tr><td>1 </td><td>36</td></tr>\n",
       "\t<tr><td>2 </td><td>42</td></tr>\n",
       "</tbody>\n",
       "</table>\n"
      ],
      "text/latex": [
       "\\begin{tabular}{r|ll}\n",
       " V1 & V4.Sum\\\\\n",
       "\\hline\n",
       "\t 1  & 36\\\\\n",
       "\t 2  & 42\\\\\n",
       "\\end{tabular}\n"
      ],
      "text/markdown": [
       "\n",
       "V1 | V4.Sum | \n",
       "|---|---|\n",
       "| 1  | 36 | \n",
       "| 2  | 42 | \n",
       "\n",
       "\n"
      ],
      "text/plain": [
       "  V1 V4.Sum\n",
       "1 1  36    \n",
       "2 2  42    "
      ]
     },
     "metadata": {},
     "output_type": "display_data"
    },
    {
     "data": {
      "text/html": [
       "<table>\n",
       "<thead><tr><th scope=col>V1</th><th scope=col>mean</th><th scope=col>sum</th><th scope=col>n</th></tr></thead>\n",
       "<tbody>\n",
       "\t<tr><td>1       </td><td>-0.01935</td><td> 6      </td><td>6       </td></tr>\n",
       "\t<tr><td>2       </td><td>-0.72465</td><td>12      </td><td>6       </td></tr>\n",
       "</tbody>\n",
       "</table>\n"
      ],
      "text/latex": [
       "\\begin{tabular}{r|llll}\n",
       " V1 & mean & sum & n\\\\\n",
       "\\hline\n",
       "\t 1        & -0.01935 &  6       & 6       \\\\\n",
       "\t 2        & -0.72465 & 12       & 6       \\\\\n",
       "\\end{tabular}\n"
      ],
      "text/markdown": [
       "\n",
       "V1 | mean | sum | n | \n",
       "|---|---|\n",
       "| 1        | -0.01935 |  6       | 6        | \n",
       "| 2        | -0.72465 | 12       | 6        | \n",
       "\n",
       "\n"
      ],
      "text/plain": [
       "  V1 mean     sum n\n",
       "1 1  -0.01935  6  6\n",
       "2 2  -0.72465 12  6"
      ]
     },
     "metadata": {},
     "output_type": "display_data"
    },
    {
     "data": {
      "text/html": [
       "<table>\n",
       "<thead><tr><th scope=col>V1</th><th scope=col>Sum</th></tr></thead>\n",
       "<tbody>\n",
       "\t<tr><td>1 </td><td>36</td></tr>\n",
       "\t<tr><td>2 </td><td>42</td></tr>\n",
       "</tbody>\n",
       "</table>\n"
      ],
      "text/latex": [
       "\\begin{tabular}{r|ll}\n",
       " V1 & Sum\\\\\n",
       "\\hline\n",
       "\t 1  & 36\\\\\n",
       "\t 2  & 42\\\\\n",
       "\\end{tabular}\n"
      ],
      "text/markdown": [
       "\n",
       "V1 | Sum | \n",
       "|---|---|\n",
       "| 1  | 36 | \n",
       "| 2  | 42 | \n",
       "\n",
       "\n"
      ],
      "text/plain": [
       "  V1 Sum\n",
       "1 1  36 \n",
       "2 2  42 "
      ]
     },
     "metadata": {},
     "output_type": "display_data"
    },
    {
     "data": {
      "text/html": [
       "<table>\n",
       "<thead><tr><th scope=col>V1</th><th scope=col>V2</th><th scope=col>V4.Sum</th></tr></thead>\n",
       "<tbody>\n",
       "\t<tr><td>1 </td><td>A </td><td> 8</td></tr>\n",
       "\t<tr><td>2 </td><td>B </td><td>10</td></tr>\n",
       "\t<tr><td>1 </td><td>C </td><td>12</td></tr>\n",
       "\t<tr><td>2 </td><td>A </td><td>14</td></tr>\n",
       "\t<tr><td>1 </td><td>B </td><td>16</td></tr>\n",
       "\t<tr><td>2 </td><td>C </td><td>18</td></tr>\n",
       "</tbody>\n",
       "</table>\n"
      ],
      "text/latex": [
       "\\begin{tabular}{r|lll}\n",
       " V1 & V2 & V4.Sum\\\\\n",
       "\\hline\n",
       "\t 1  & A  &  8\\\\\n",
       "\t 2  & B  & 10\\\\\n",
       "\t 1  & C  & 12\\\\\n",
       "\t 2  & A  & 14\\\\\n",
       "\t 1  & B  & 16\\\\\n",
       "\t 2  & C  & 18\\\\\n",
       "\\end{tabular}\n"
      ],
      "text/markdown": [
       "\n",
       "V1 | V2 | V4.Sum | \n",
       "|---|---|---|---|---|---|\n",
       "| 1  | A  |  8 | \n",
       "| 2  | B  | 10 | \n",
       "| 1  | C  | 12 | \n",
       "| 2  | A  | 14 | \n",
       "| 1  | B  | 16 | \n",
       "| 2  | C  | 18 | \n",
       "\n",
       "\n"
      ],
      "text/plain": [
       "  V1 V2 V4.Sum\n",
       "1 1  A   8    \n",
       "2 2  B  10    \n",
       "3 1  C  12    \n",
       "4 2  A  14    \n",
       "5 1  B  16    \n",
       "6 2  C  18    "
      ]
     },
     "metadata": {},
     "output_type": "display_data"
    },
    {
     "data": {
      "text/html": [
       "<table>\n",
       "<thead><tr><th scope=col>Group.1</th><th scope=col>Group.2</th><th scope=col>x</th></tr></thead>\n",
       "<tbody>\n",
       "\t<tr><td>1 </td><td>A </td><td> 8</td></tr>\n",
       "\t<tr><td>2 </td><td>A </td><td>14</td></tr>\n",
       "\t<tr><td>1 </td><td>B </td><td>16</td></tr>\n",
       "\t<tr><td>2 </td><td>B </td><td>10</td></tr>\n",
       "\t<tr><td>1 </td><td>C </td><td>12</td></tr>\n",
       "\t<tr><td>2 </td><td>C </td><td>18</td></tr>\n",
       "</tbody>\n",
       "</table>\n"
      ],
      "text/latex": [
       "\\begin{tabular}{r|lll}\n",
       " Group.1 & Group.2 & x\\\\\n",
       "\\hline\n",
       "\t 1  & A  &  8\\\\\n",
       "\t 2  & A  & 14\\\\\n",
       "\t 1  & B  & 16\\\\\n",
       "\t 2  & B  & 10\\\\\n",
       "\t 1  & C  & 12\\\\\n",
       "\t 2  & C  & 18\\\\\n",
       "\\end{tabular}\n"
      ],
      "text/markdown": [
       "\n",
       "Group.1 | Group.2 | x | \n",
       "|---|---|---|---|---|---|\n",
       "| 1  | A  |  8 | \n",
       "| 2  | A  | 14 | \n",
       "| 1  | B  | 16 | \n",
       "| 2  | B  | 10 | \n",
       "| 1  | C  | 12 | \n",
       "| 2  | C  | 18 | \n",
       "\n",
       "\n"
      ],
      "text/plain": [
       "  Group.1 Group.2 x \n",
       "1 1       A        8\n",
       "2 2       A       14\n",
       "3 1       B       16\n",
       "4 2       B       10\n",
       "5 1       C       12\n",
       "6 2       C       18"
      ]
     },
     "metadata": {},
     "output_type": "display_data"
    },
    {
     "data": {
      "text/html": [
       "<table>\n",
       "<thead><tr><th scope=col>sign</th><th scope=col>V4.Sum</th></tr></thead>\n",
       "<tbody>\n",
       "\t<tr><td>0 </td><td>36</td></tr>\n",
       "\t<tr><td>1 </td><td>42</td></tr>\n",
       "</tbody>\n",
       "</table>\n"
      ],
      "text/latex": [
       "\\begin{tabular}{r|ll}\n",
       " sign & V4.Sum\\\\\n",
       "\\hline\n",
       "\t 0  & 36\\\\\n",
       "\t 1  & 42\\\\\n",
       "\\end{tabular}\n"
      ],
      "text/markdown": [
       "\n",
       "sign | V4.Sum | \n",
       "|---|---|\n",
       "| 0  | 36 | \n",
       "| 1  | 42 | \n",
       "\n",
       "\n"
      ],
      "text/plain": [
       "  sign V4.Sum\n",
       "1 0    36    \n",
       "2 1    42    "
      ]
     },
     "metadata": {},
     "output_type": "display_data"
    },
    {
     "data": {
      "text/html": [
       "<table>\n",
       "<thead><tr><th scope=col>V1</th><th scope=col>V4.Sum</th></tr></thead>\n",
       "<tbody>\n",
       "\t<tr><td>1 </td><td>36</td></tr>\n",
       "\t<tr><td>2 </td><td>42</td></tr>\n",
       "</tbody>\n",
       "</table>\n"
      ],
      "text/latex": [
       "\\begin{tabular}{r|ll}\n",
       " V1 & V4.Sum\\\\\n",
       "\\hline\n",
       "\t 1  & 36\\\\\n",
       "\t 2  & 42\\\\\n",
       "\\end{tabular}\n"
      ],
      "text/markdown": [
       "\n",
       "V1 | V4.Sum | \n",
       "|---|---|\n",
       "| 1  | 36 | \n",
       "| 2  | 42 | \n",
       "\n",
       "\n"
      ],
      "text/plain": [
       "  V1 V4.Sum\n",
       "1 1  36    \n",
       "2 2  42    "
      ]
     },
     "metadata": {},
     "output_type": "display_data"
    },
    {
     "data": {
      "text/html": [
       "<table>\n",
       "<thead><tr><th scope=col>V1</th><th scope=col>V4.Sum</th></tr></thead>\n",
       "<tbody>\n",
       "\t<tr><td>0 </td><td>36</td></tr>\n",
       "\t<tr><td>1 </td><td>42</td></tr>\n",
       "</tbody>\n",
       "</table>\n"
      ],
      "text/latex": [
       "\\begin{tabular}{r|ll}\n",
       " V1 & V4.Sum\\\\\n",
       "\\hline\n",
       "\t 0  & 36\\\\\n",
       "\t 1  & 42\\\\\n",
       "\\end{tabular}\n"
      ],
      "text/markdown": [
       "\n",
       "V1 | V4.Sum | \n",
       "|---|---|\n",
       "| 0  | 36 | \n",
       "| 1  | 42 | \n",
       "\n",
       "\n"
      ],
      "text/plain": [
       "  V1 V4.Sum\n",
       "1 0  36    \n",
       "2 1  42    "
      ]
     },
     "metadata": {},
     "output_type": "display_data"
    },
    {
     "data": {
      "text/html": [
       "<table>\n",
       "<thead><tr><th scope=col>V1.01</th><th scope=col>V4.Sum</th></tr></thead>\n",
       "<tbody>\n",
       "\t<tr><td>0 </td><td>36</td></tr>\n",
       "\t<tr><td>1 </td><td>42</td></tr>\n",
       "</tbody>\n",
       "</table>\n"
      ],
      "text/latex": [
       "\\begin{tabular}{r|ll}\n",
       " V1.01 & V4.Sum\\\\\n",
       "\\hline\n",
       "\t 0  & 36\\\\\n",
       "\t 1  & 42\\\\\n",
       "\\end{tabular}\n"
      ],
      "text/markdown": [
       "\n",
       "V1.01 | V4.Sum | \n",
       "|---|---|\n",
       "| 0  | 36 | \n",
       "| 1  | 42 | \n",
       "\n",
       "\n"
      ],
      "text/plain": [
       "  V1.01 V4.Sum\n",
       "1 0     36    \n",
       "2 1     42    "
      ]
     },
     "metadata": {},
     "output_type": "display_data"
    },
    {
     "data": {
      "text/html": [
       "<table>\n",
       "<thead><tr><th scope=col>V1</th><th scope=col>V4.Sum</th></tr></thead>\n",
       "<tbody>\n",
       "\t<tr><td>1</td><td>9</td></tr>\n",
       "\t<tr><td>2</td><td>6</td></tr>\n",
       "</tbody>\n",
       "</table>\n"
      ],
      "text/latex": [
       "\\begin{tabular}{r|ll}\n",
       " V1 & V4.Sum\\\\\n",
       "\\hline\n",
       "\t 1 & 9\\\\\n",
       "\t 2 & 6\\\\\n",
       "\\end{tabular}\n"
      ],
      "text/markdown": [
       "\n",
       "V1 | V4.Sum | \n",
       "|---|---|\n",
       "| 1 | 9 | \n",
       "| 2 | 6 | \n",
       "\n",
       "\n"
      ],
      "text/plain": [
       "  V1 V4.Sum\n",
       "1 1  9     \n",
       "2 2  6     "
      ]
     },
     "metadata": {},
     "output_type": "display_data"
    },
    {
     "data": {
      "text/html": [
       "<table>\n",
       "<thead><tr><th scope=col>V1</th><th scope=col>N</th></tr></thead>\n",
       "<tbody>\n",
       "\t<tr><td>1</td><td>6</td></tr>\n",
       "\t<tr><td>2</td><td>6</td></tr>\n",
       "</tbody>\n",
       "</table>\n"
      ],
      "text/latex": [
       "\\begin{tabular}{r|ll}\n",
       " V1 & N\\\\\n",
       "\\hline\n",
       "\t 1 & 6\\\\\n",
       "\t 2 & 6\\\\\n",
       "\\end{tabular}\n"
      ],
      "text/markdown": [
       "\n",
       "V1 | N | \n",
       "|---|---|\n",
       "| 1 | 6 | \n",
       "| 2 | 6 | \n",
       "\n",
       "\n"
      ],
      "text/plain": [
       "  V1 N\n",
       "1 1  6\n",
       "2 2  6"
      ]
     },
     "metadata": {},
     "output_type": "display_data"
    },
    {
     "data": {
      "image/png": "[encoded data removed]",
      "text/plain": [
       "plot without title"
      ]
     },
     "metadata": {},
     "output_type": "display_data"
    }
   ],
   "source": [
    "# advantages of fread() function from data.table\n",
    "# system.time(read.csv(\"C:/Users/user/Downloads/Case-Study-Airlines/data/2008.csv\"))\n",
    "# system.time(fread(\"C:/Users/user/Downloads/Case-Study-Airlines/data/2008.csv\"))\n",
    "# Create a data.table and call it DT\n",
    "set.seed(45L)  \n",
    "DT <- data.table(V1=c(1L,2L), \n",
    "                   V2=LETTERS[1:3],\n",
    "                   V3=round(rnorm(4),4),\n",
    "                   V4=1:12)\n",
    "# Subsetting Rows Using i\n",
    "class(DT)\n",
    "class(mtcars)\n",
    "# data.frame\n",
    "mtcars[3:5]\n",
    "mtcars[3:5,]\n",
    "mtcars[,3:5]\n",
    "# data.table\n",
    "DT[3:5]\n",
    "DT[,3:4]\n",
    "DT[3:4,]\n",
    "# Select all rows that have value A in column V2\n",
    "DT[V2==\"A\"]# for data.table \n",
    "mtcars[mtcars$gear==3,] # for data.frame\n",
    "# Select all rows that have value A or C in column V2\n",
    "DT[V2 %in% c(\"A\",\"C\")] # data.table\n",
    "mtcars[mtcars$gear %in% c(4,5),] # for data.frame\n",
    "# Manipulating on Columns in j\n",
    "DT[,V2] # returns as a vector\n",
    "mtcars[\"disp\"] # returns as a data.frame\n",
    "tblDT <- as_tibble(DT)\n",
    "class(tblDT)\n",
    "st <- tblDT[,\"V2\"] # tibble will return as a tibble\n",
    "is.data.frame(st) # can be call as data frame/tibble\n",
    "is.tibble(st)\n",
    "# Return V2 and V3 as a data.table\n",
    "DT[,.(V2,V3)]  # DT[,c(\"V2\",\"V3\")]\n",
    " \n",
    "DT[,sum(V1)]  # sum(mtcars$mpg)\n",
    "DT[,.(sum(V1),sd(V3))]# output as data table\n",
    "# The same as the above, with new names\n",
    "DT[,.(Aggregate=sum(V1), \n",
    "      Sd.V3=sd(V3))]\n",
    "DT[,.(V1,Sd.V3=sd(V3))]\n",
    "DT[,.(print(V2), \n",
    "      plot(V3),\n",
    "      NULL)] \n",
    "\n",
    "DT[,c(print(DT$V2), \n",
    "      plot(DT$V3),\n",
    "      NULL)] \n",
    "# View(DT)\n",
    "# Doing j by Group\n",
    "DT[,.(V4.Sum=sum(V4)),by=V1]\n",
    "# library(dplyr)\n",
    "# same operation using functions from dplyr\n",
    "p <- group_by(DT, V1)\n",
    "summarise(p, mean = mean(V3), sum = sum(V1), n = n())\n",
    "# same operation using pipe operator\n",
    "DT %>%  group_by(V1) %>% summarise(Sum= sum(V4))\n",
    "\n",
    "DT[,.(V4.Sum=sum(V4)), by=.(V1,V2)]\n",
    "# ?aggregate\n",
    "# above operation can be done using aggregate\n",
    "aggregate(DT$V4, by=list(DT$V1,DT$V2), sum) \n",
    "# Calculate sum of V4 for every group in  sign(V1-1)\n",
    "DT[,.(V4.Sum=sum(V4)),by=sign(V1-1)]\n",
    "DT[,.(V4.Sum=sum(V4)),by=V1]\n",
    "DT[,.(V4.Sum=sum(V4)),by=V1-1]\n",
    "DT[,.(V4.Sum=sum(V4)),by=.(V1.01=sign(V1-1))]\n",
    "DT[1:5,.(V4.Sum=sum(V4)), by=V1] \n",
    "DT[,.N,by=V1] "
   ]
  },
  {
   "cell_type": "code",
   "execution_count": null,
   "metadata": {
    "collapsed": true
   },
   "outputs": [],
   "source": []
  }
 ],
 "metadata": {
  "hide_input": false,
  "kernelspec": {
   "display_name": "R",
   "language": "R",
   "name": "ir"
  },
  "toc": {
   "nav_menu": {},
   "number_sections": true,
   "sideBar": true,
   "skip_h1_title": false,
   "title_cell": "Table of Contents",
   "title_sidebar": "Contents",
   "toc_cell": false,
   "toc_position": {},
   "toc_section_display": true,
   "toc_window_display": false
  }
 },
 "nbformat": 4,
 "nbformat_minor": 2
}
