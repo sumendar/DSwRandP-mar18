{
 "cells": [
  {
   "cell_type": "markdown",
   "metadata": {
    "toc": "true"
   },
   "source": [
    "# Table of Contents\n",
    " <p><div class=\"lev2 toc-item\"><a href=\"#Frequency-&amp;-Frequency-Distribution\" data-toc-modified-id=\"Frequency-&amp;-Frequency-Distribution-0.1\"><span class=\"toc-item-num\">0.1&nbsp;&nbsp;</span>Frequency &amp; Frequency Distribution</a></div><div class=\"lev2 toc-item\"><a href=\"#Frequency-Tables\" data-toc-modified-id=\"Frequency-Tables-0.2\"><span class=\"toc-item-num\">0.2&nbsp;&nbsp;</span>Frequency Tables</a></div><div class=\"lev2 toc-item\"><a href=\"#Contingency-Tables-in-R\" data-toc-modified-id=\"Contingency-Tables-in-R-0.3\"><span class=\"toc-item-num\">0.3&nbsp;&nbsp;</span>Contingency Tables in R</a></div><div class=\"lev2 toc-item\"><a href=\"#Relative-Frequency-Distribution\" data-toc-modified-id=\"Relative-Frequency-Distribution-0.4\"><span class=\"toc-item-num\">0.4&nbsp;&nbsp;</span>Relative Frequency Distribution</a></div><div class=\"lev2 toc-item\"><a href=\"#Relative-Frequency-Distribution-of-Quantitative-Data\" data-toc-modified-id=\"Relative-Frequency-Distribution-of-Quantitative-Data-0.5\"><span class=\"toc-item-num\">0.5&nbsp;&nbsp;</span>Relative Frequency Distribution of Quantitative Data</a></div><div class=\"lev2 toc-item\"><a href=\"#Cumulative-Frequency-Distribution\" data-toc-modified-id=\"Cumulative-Frequency-Distribution-0.6\"><span class=\"toc-item-num\">0.6&nbsp;&nbsp;</span>Cumulative Frequency Distribution</a></div><div class=\"lev2 toc-item\"><a href=\"#Histogram\" data-toc-modified-id=\"Histogram-0.7\"><span class=\"toc-item-num\">0.7&nbsp;&nbsp;</span>Histogram</a></div><div class=\"lev2 toc-item\"><a href=\"#Bar-plot\" data-toc-modified-id=\"Bar-plot-0.8\"><span class=\"toc-item-num\">0.8&nbsp;&nbsp;</span>Bar plot</a></div><div class=\"lev2 toc-item\"><a href=\"#Pie-Chart\" data-toc-modified-id=\"Pie-Chart-0.9\"><span class=\"toc-item-num\">0.9&nbsp;&nbsp;</span>Pie Chart</a></div>"
   ]
  },
  {
   "cell_type": "markdown",
   "metadata": {
    "hide_input": true,
    "run_control": {
     "frozen": false,
     "read_only": false
    }
   },
   "source": [
    "## Frequency & Frequency Distribution"
   ]
  },
  {
   "cell_type": "markdown",
   "metadata": {},
   "source": [
    "The **frequency** of a particular data value is the number of times the data value occurs.  \n",
    "http://www.mathsteacher.com.au/year8/ch17_stat/03_freq/freq.htm  "
   ]
  },
  {
   "cell_type": "markdown",
   "metadata": {
    "hide_input": true,
    "run_control": {
     "frozen": false,
     "read_only": false
    }
   },
   "source": [
    "## Frequency Tables"
   ]
  },
  {
   "cell_type": "markdown",
   "metadata": {},
   "source": [
    "[FREQUENCY TABLES and HISTOGRAMS](./docs/RTutorial1.pdf)"
   ]
  },
  {
   "cell_type": "markdown",
   "metadata": {
    "hide_input": true,
    "run_control": {
     "frozen": false,
     "read_only": false
    }
   },
   "source": [
    "## Contingency Tables in R"
   ]
  },
  {
   "cell_type": "markdown",
   "metadata": {
    "hide_input": true,
    "run_control": {
     "frozen": false,
     "read_only": false
    }
   },
   "source": [
    "## Relative Frequency Distribution"
   ]
  },
  {
   "cell_type": "markdown",
   "metadata": {
    "hide_input": true,
    "run_control": {
     "frozen": false,
     "read_only": false
    }
   },
   "source": [
    "## Relative Frequency Distribution of Quantitative Data"
   ]
  },
  {
   "cell_type": "markdown",
   "metadata": {
    "hide_input": true,
    "run_control": {
     "frozen": false,
     "read_only": false
    }
   },
   "source": [
    "## Cumulative Frequency Distribution"
   ]
  },
  {
   "cell_type": "markdown",
   "metadata": {
    "hide_input": true,
    "run_control": {
     "frozen": false,
     "read_only": false
    }
   },
   "source": [
    "## Histogram"
   ]
  },
  {
   "cell_type": "markdown",
   "metadata": {
    "run_control": {
     "marked": false
    }
   },
   "source": [
    "## Bar plot"
   ]
  },
  {
   "cell_type": "markdown",
   "metadata": {},
   "source": [
    "## Pie Chart"
   ]
  },
  {
   "cell_type": "code",
   "execution_count": null,
   "metadata": {},
   "outputs": [],
   "source": []
  }
 ],
 "metadata": {
  "hide_input": false,
  "kernelspec": {
   "display_name": "R",
   "language": "R",
   "name": "ir"
  },
  "language_info": {
   "codemirror_mode": "r",
   "file_extension": ".r",
   "mimetype": "text/x-r-source",
   "name": "R",
   "pygments_lexer": "r",
   "version": "3.3.2"
  },
  "nav_menu": {},
  "toc": {
   "navigate_menu": true,
   "number_sections": false,
   "sideBar": true,
   "threshold": 6,
   "toc_cell": true,
   "toc_section_display": "block",
   "toc_window_display": false
  }
 },
 "nbformat": 4,
 "nbformat_minor": 2
}
