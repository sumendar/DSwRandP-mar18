{
 "cells": [
  {
   "cell_type": "code",
   "execution_count": 3,
   "metadata": {},
   "outputs": [
    {
     "name": "stderr",
     "output_type": "stream",
     "text": [
      "Installing package into 'C:/Users/user/Documents/R/win-library/3.4'\n",
      "(as 'lib' is unspecified)\n",
      "also installing the dependency 'MASS'\n",
      "\n"
     ]
    },
    {
     "name": "stdout",
     "output_type": "stream",
     "text": [
      "package 'MASS' successfully unpacked and MD5 sums checked\n",
      "package 'gmodels' successfully unpacked and MD5 sums checked\n",
      "\n",
      "The downloaded binary packages are in\n",
      "\tC:\\Users\\user\\AppData\\Local\\Temp\\RtmpUz3nEe\\downloaded_packages\n"
     ]
    }
   ],
   "source": [
    "#install.packages(\"gmodels\", repos = \"https://cran.r-project.org\") "
   ]
  },
  {
   "cell_type": "code",
   "execution_count": 1,
   "metadata": {},
   "outputs": [
    {
     "name": "stderr",
     "output_type": "stream",
     "text": [
      "Warning message:\n",
      "\"package 'gmodels' was built under R version 3.4.4\""
     ]
    }
   ],
   "source": [
    "library(gmodels)"
   ]
  },
  {
   "cell_type": "code",
   "execution_count": null,
   "metadata": {
    "collapsed": true
   },
   "outputs": [],
   "source": [
    "ages <- scan()\n",
    "table(ages)\n",
    "min(ages)\n",
    "max(ages)\n",
    "boundaries = seq(34.5, 69.5, by=5) \n",
    "boundaries\n",
    "cut(ages, boundaries)\n",
    "table(cut(ages, boundaries))\n",
    "table(cut(ages, c(boundaries, Inf)))\n",
    "length(ages) \n",
    "table(cut(ages, boundaries)) / 43 \n",
    "round(table(cut(ages, boundaries)) / 43,2) "
   ]
  },
  {
   "cell_type": "code",
   "execution_count": 6,
   "metadata": {},
   "outputs": [
    {
     "data": {
      "text/html": [
       "<table>\n",
       "<thead><tr><th scope=col>car.phone.use</th><th scope=col>speed.violation</th></tr></thead>\n",
       "<tbody>\n",
       "\t<tr><td>FALSE</td><td>FALSE</td></tr>\n",
       "\t<tr><td>FALSE</td><td>FALSE</td></tr>\n",
       "\t<tr><td>FALSE</td><td>FALSE</td></tr>\n",
       "\t<tr><td> TRUE</td><td> TRUE</td></tr>\n",
       "\t<tr><td>FALSE</td><td>FALSE</td></tr>\n",
       "\t<tr><td> TRUE</td><td>FALSE</td></tr>\n",
       "</tbody>\n",
       "</table>\n"
      ],
      "text/latex": [
       "\\begin{tabular}{r|ll}\n",
       " car.phone.use & speed.violation\\\\\n",
       "\\hline\n",
       "\t FALSE & FALSE\\\\\n",
       "\t FALSE & FALSE\\\\\n",
       "\t FALSE & FALSE\\\\\n",
       "\t  TRUE &  TRUE\\\\\n",
       "\t FALSE & FALSE\\\\\n",
       "\t  TRUE & FALSE\\\\\n",
       "\\end{tabular}\n"
      ],
      "text/markdown": [
       "\n",
       "car.phone.use | speed.violation | \n",
       "|---|---|---|---|---|---|\n",
       "| FALSE | FALSE | \n",
       "| FALSE | FALSE | \n",
       "| FALSE | FALSE | \n",
       "|  TRUE |  TRUE | \n",
       "| FALSE | FALSE | \n",
       "|  TRUE | FALSE | \n",
       "\n",
       "\n"
      ],
      "text/plain": [
       "  car.phone.use speed.violation\n",
       "1 FALSE         FALSE          \n",
       "2 FALSE         FALSE          \n",
       "3 FALSE         FALSE          \n",
       "4  TRUE          TRUE          \n",
       "5 FALSE         FALSE          \n",
       "6  TRUE         FALSE          "
      ]
     },
     "metadata": {},
     "output_type": "display_data"
    },
    {
     "data": {
      "text/html": [
       "<table>\n",
       "<thead><tr><th></th><th scope=col>FALSE</th><th scope=col>TRUE</th><th scope=col>Sum</th></tr></thead>\n",
       "<tbody>\n",
       "\t<tr><th scope=row>FALSE</th><td>411</td><td>48 </td><td>459</td></tr>\n",
       "\t<tr><th scope=row>TRUE</th><td>264</td><td>32 </td><td>296</td></tr>\n",
       "\t<tr><th scope=row>Sum</th><td>675</td><td>80 </td><td>755</td></tr>\n",
       "</tbody>\n",
       "</table>\n"
      ],
      "text/latex": [
       "\\begin{tabular}{r|lll}\n",
       "  & FALSE & TRUE & Sum\\\\\n",
       "\\hline\n",
       "\tFALSE & 411 & 48  & 459\\\\\n",
       "\tTRUE & 264 & 32  & 296\\\\\n",
       "\tSum & 675 & 80  & 755\\\\\n",
       "\\end{tabular}\n"
      ],
      "text/markdown": [
       "\n",
       "| <!--/--> | FALSE | TRUE | Sum | \n",
       "|---|---|---|\n",
       "| FALSE | 411 | 48  | 459 | \n",
       "| TRUE | 264 | 32  | 296 | \n",
       "| Sum | 675 | 80  | 755 | \n",
       "\n",
       "\n"
      ],
      "text/plain": [
       "             speed.violation\n",
       "car.phone.use FALSE TRUE Sum\n",
       "        FALSE 411   48   459\n",
       "        TRUE  264   32   296\n",
       "        Sum   675   80   755"
      ]
     },
     "metadata": {},
     "output_type": "display_data"
    },
    {
     "data": {
      "text/plain": [
       "             speed.violation\n",
       "car.phone.use      FALSE       TRUE\n",
       "        FALSE 0.54437086 0.06357616\n",
       "        TRUE  0.34966887 0.04238411"
      ]
     },
     "metadata": {},
     "output_type": "display_data"
    },
    {
     "data": {
      "text/plain": [
       "             speed.violation\n",
       "car.phone.use     FALSE      TRUE\n",
       "        FALSE 0.8954248 0.1045752\n",
       "        TRUE  0.8918919 0.1081081"
      ]
     },
     "metadata": {},
     "output_type": "display_data"
    },
    {
     "data": {
      "text/plain": [
       "             speed.violation\n",
       "car.phone.use     FALSE      TRUE\n",
       "        FALSE 0.6088889 0.6000000\n",
       "        TRUE  0.3911111 0.4000000"
      ]
     },
     "metadata": {},
     "output_type": "display_data"
    },
    {
     "name": "stdout",
     "output_type": "stream",
     "text": [
      "\n",
      " \n",
      "   Cell Contents\n",
      "|-------------------------|\n",
      "|                       N |\n",
      "| Chi-square contribution |\n",
      "|           N / Row Total |\n",
      "|           N / Col Total |\n",
      "|         N / Table Total |\n",
      "|-------------------------|\n",
      "\n",
      " \n",
      "Total Observations in Table:  755 \n",
      "\n",
      " \n",
      "              | speed.violation \n",
      "car.phone.use |     FALSE |      TRUE | Row Total | \n",
      "--------------|-----------|-----------|-----------|\n",
      "        FALSE |       411 |        48 |       459 | \n",
      "              |     0.001 |     0.008 |           | \n",
      "              |     0.895 |     0.105 |     0.608 | \n",
      "              |     0.609 |     0.600 |           | \n",
      "              |     0.544 |     0.064 |           | \n",
      "--------------|-----------|-----------|-----------|\n",
      "         TRUE |       264 |        32 |       296 | \n",
      "              |     0.002 |     0.013 |           | \n",
      "              |     0.892 |     0.108 |     0.392 | \n",
      "              |     0.391 |     0.400 |           | \n",
      "              |     0.350 |     0.042 |           | \n",
      "--------------|-----------|-----------|-----------|\n",
      " Column Total |       675 |        80 |       755 | \n",
      "              |     0.894 |     0.106 |           | \n",
      "--------------|-----------|-----------|-----------|\n",
      "\n",
      " \n"
     ]
    },
    {
     "data": {
      "text/plain": [
       "             speed.violation\n",
       "car.phone.use FALSE TRUE\n",
       "        FALSE   411   48\n",
       "        TRUE    264   32"
      ]
     },
     "metadata": {},
     "output_type": "display_data"
    },
    {
     "data": {
      "text/plain": [
       "\n",
       "[1.5,2) [2,2.5) [2.5,3) [3,3.5) [3.5,4) [4,4.5) [4.5,5) [5,5.5) \n",
       "     51      41       5       7      30      73      61       4 "
      ]
     },
     "metadata": {},
     "output_type": "display_data"
    },
    {
     "data": {
      "text/plain": [
       "\n",
       "[1.5,2) [2,2.5) [2.5,3) [3,3.5) [3.5,4) [4,4.5) [4.5,5) [5,5.5) \n",
       "   0.19    0.15    0.02    0.03    0.11    0.27    0.22    0.01 "
      ]
     },
     "metadata": {},
     "output_type": "display_data"
    },
    {
     "data": {
      "text/html": [
       "<dl class=dl-horizontal>\n",
       "\t<dt>[1.5,2)</dt>\n",
       "\t\t<dd>51</dd>\n",
       "\t<dt>[2,2.5)</dt>\n",
       "\t\t<dd>92</dd>\n",
       "\t<dt>[2.5,3)</dt>\n",
       "\t\t<dd>97</dd>\n",
       "\t<dt>[3,3.5)</dt>\n",
       "\t\t<dd>104</dd>\n",
       "\t<dt>[3.5,4)</dt>\n",
       "\t\t<dd>134</dd>\n",
       "\t<dt>[4,4.5)</dt>\n",
       "\t\t<dd>207</dd>\n",
       "\t<dt>[4.5,5)</dt>\n",
       "\t\t<dd>268</dd>\n",
       "\t<dt>[5,5.5)</dt>\n",
       "\t\t<dd>272</dd>\n",
       "</dl>\n"
      ],
      "text/latex": [
       "\\begin{description*}\n",
       "\\item[\\{{[}\\}1.5,2)] 51\n",
       "\\item[\\{{[}\\}2,2.5)] 92\n",
       "\\item[\\{{[}\\}2.5,3)] 97\n",
       "\\item[\\{{[}\\}3,3.5)] 104\n",
       "\\item[\\{{[}\\}3.5,4)] 134\n",
       "\\item[\\{{[}\\}4,4.5)] 207\n",
       "\\item[\\{{[}\\}4.5,5)] 268\n",
       "\\item[\\{{[}\\}5,5.5)] 272\n",
       "\\end{description*}\n"
      ],
      "text/markdown": [
       "[1.5,2)\n",
       ":   51[2,2.5)\n",
       ":   92[2.5,3)\n",
       ":   97[3,3.5)\n",
       ":   104[3.5,4)\n",
       ":   134[4,4.5)\n",
       ":   207[4.5,5)\n",
       ":   268[5,5.5)\n",
       ":   272\n",
       "\n"
      ],
      "text/plain": [
       "[1.5,2) [2,2.5) [2.5,3) [3,3.5) [3.5,4) [4,4.5) [4.5,5) [5,5.5) \n",
       "     51      92      97     104     134     207     268     272 "
      ]
     },
     "metadata": {},
     "output_type": "display_data"
    }
   ],
   "source": [
    "# barplot(ages) \n",
    "# hist(ages, breaks=boundaries)\n",
    "# hist(ages) \n",
    "# hist(ages, prob=TRUE) \n",
    "# hist(ages, breaks=boundaries, prob=T, main=\"Relative frequency histogram\", ylab=\"Relative frequencies\") \n",
    "####################################\n",
    "set.seed(1)\n",
    "myDF = data.frame(car.phone.use = sample(c(TRUE, FALSE), 755, \n",
    "                                         replace=TRUE, prob=c(.4, .6)),\n",
    "                  speed.violation = sample(c(TRUE, FALSE), 755,\n",
    "                                           replace=TRUE, prob=c(.1, .9)))\n",
    "head(myDF)\n",
    "myTable <- table(myDF)\n",
    "#table(mtcars$gear)\n",
    "addmargins(myTable)\n",
    "prop.table(myTable)\n",
    "prop.table(myTable, 1)\n",
    "prop.table(myTable, 2)\n",
    "CrossTable(myTable)\n",
    "myTable\n",
    "\n",
    "table(cut(faithful$eruptions,seq(1.5, 5.5, by=0.5),right = FALSE))\n",
    "round(prop.table(table(cut(faithful$eruptions,seq(1.5, 5.5, by=0.5),right = FALSE))),2)\n",
    "cumsum(table(cut(faithful$eruptions,seq(1.5, 5.5, by=0.5),right = FALSE)))"
   ]
  },
  {
   "cell_type": "code",
   "execution_count": null,
   "metadata": {
    "collapsed": true
   },
   "outputs": [],
   "source": []
  }
 ],
 "metadata": {
  "hide_input": false,
  "kernelspec": {
   "display_name": "R",
   "language": "R",
   "name": "ir"
  },
  "toc": {
   "nav_menu": {},
   "number_sections": true,
   "sideBar": true,
   "skip_h1_title": false,
   "title_cell": "Table of Contents",
   "title_sidebar": "Contents",
   "toc_cell": false,
   "toc_position": {},
   "toc_section_display": true,
   "toc_window_display": false
  }
 },
 "nbformat": 4,
 "nbformat_minor": 2
}
